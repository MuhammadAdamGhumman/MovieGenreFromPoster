{
 "cells": [
  {
   "cell_type": "code",
   "execution_count": 17,
   "metadata": {},
   "outputs": [],
   "source": [
    "import numpy as np\n",
    "import pandas as pd\n",
    "import cv2\n",
    "import scipy.misc\n",
    "import matplotlib.pyplot as plt \n",
    "import glob\n",
    "import imageio\n",
    "import skimage\n",
    "import skimage.transform\n",
    "import itertools\n",
    "import pickle\n",
    "import os\n",
    "from focal_loss import BinaryFocalLoss\n",
    "os.chdir('D:/Uni/Pattern Recognition/Project/Movies/')\n",
    "\n",
    "#import keras\n",
    "#from keras.models import Sequential\n",
    "#from keras.layers import Dense, Dropout, Flatten\n",
    "#from keras.layers import Conv2D, MaxPooling2D, BatchNormalization"
   ]
  },
  {
   "cell_type": "code",
   "execution_count": 18,
   "metadata": {},
   "outputs": [
    {
     "name": "stdout",
     "output_type": "stream",
     "text": [
      "       imdbId                           Imdb Link  \\\n",
      "0      114709  http://www.imdb.com/title/tt114709   \n",
      "1      113497  http://www.imdb.com/title/tt113497   \n",
      "2      113228  http://www.imdb.com/title/tt113228   \n",
      "3      114885  http://www.imdb.com/title/tt114885   \n",
      "4      113041  http://www.imdb.com/title/tt113041   \n",
      "...       ...                                 ...   \n",
      "40103   83168   http://www.imdb.com/title/tt83168   \n",
      "40104   82875   http://www.imdb.com/title/tt82875   \n",
      "40105  815258  http://www.imdb.com/title/tt815258   \n",
      "40106   79142   http://www.imdb.com/title/tt79142   \n",
      "40107   70710   http://www.imdb.com/title/tt70710   \n",
      "\n",
      "                                    Title  IMDB Score  \\\n",
      "0                        Toy Story (1995)         8.3   \n",
      "1                          Jumanji (1995)         6.9   \n",
      "2                 Grumpier Old Men (1995)         6.6   \n",
      "3                Waiting to Exhale (1995)         5.7   \n",
      "4      Father of the Bride Part II (1995)         5.9   \n",
      "...                                   ...         ...   \n",
      "40103               Tanya's Island (1980)         4.3   \n",
      "40104               Pacific Banana (1981)         4.7   \n",
      "40105  Werewolf in a Womens Prison (2006)         4.5   \n",
      "40106              Xiao zi ming da (1979)         6.5   \n",
      "40107                     Snatched (1973)         6.5   \n",
      "\n",
      "                            Genre  \\\n",
      "0      Animation|Adventure|Comedy   \n",
      "1         Action|Adventure|Family   \n",
      "2                  Comedy|Romance   \n",
      "3            Comedy|Drama|Romance   \n",
      "4           Comedy|Family|Romance   \n",
      "...                           ...   \n",
      "40103                       Drama   \n",
      "40104                      Comedy   \n",
      "40105                      Horror   \n",
      "40106               Action|Comedy   \n",
      "40107        Crime|Drama|Thriller   \n",
      "\n",
      "                                                  Poster  \n",
      "0      https://images-na.ssl-images-amazon.com/images...  \n",
      "1      https://images-na.ssl-images-amazon.com/images...  \n",
      "2      https://images-na.ssl-images-amazon.com/images...  \n",
      "3      https://images-na.ssl-images-amazon.com/images...  \n",
      "4      https://images-na.ssl-images-amazon.com/images...  \n",
      "...                                                  ...  \n",
      "40103  https://images-na.ssl-images-amazon.com/images...  \n",
      "40104  https://images-na.ssl-images-amazon.com/images...  \n",
      "40105  https://images-na.ssl-images-amazon.com/images...  \n",
      "40106  https://images-na.ssl-images-amazon.com/images...  \n",
      "40107                                                NaN  \n",
      "\n",
      "[40108 rows x 6 columns]\n"
     ]
    }
   ],
   "source": [
    "df_movietotal = pd.read_csv(\"MovieGenre.csv\", encoding='latin1')\n",
    "print(df_movietotal)"
   ]
  },
  {
   "cell_type": "code",
   "execution_count": 19,
   "metadata": {},
   "outputs": [],
   "source": [
    "df_movietotal_copy = df_movietotal.copy()\n",
    "df_movietotal_copy = df_movietotal_copy.dropna(axis=0)"
   ]
  },
  {
   "cell_type": "code",
   "execution_count": 20,
   "metadata": {},
   "outputs": [
    {
     "data": {
      "text/plain": [
       "39246"
      ]
     },
     "execution_count": 20,
     "metadata": {},
     "output_type": "execute_result"
    }
   ],
   "source": [
    "len(df_movietotal_copy)"
   ]
  },
  {
   "cell_type": "code",
   "execution_count": 21,
   "metadata": {},
   "outputs": [
    {
     "name": "stdout",
     "output_type": "stream",
     "text": [
      "0        [Animation, Adventure, Comedy]\n",
      "1           [Action, Adventure, Family]\n",
      "2                     [Comedy, Romance]\n",
      "3              [Comedy, Drama, Romance]\n",
      "4             [Comedy, Family, Romance]\n",
      "                      ...              \n",
      "40102                [Action, Thriller]\n",
      "40103                           [Drama]\n",
      "40104                          [Comedy]\n",
      "40105                          [Horror]\n",
      "40106                  [Action, Comedy]\n",
      "Name: Genre, Length: 39246, dtype: object\n"
     ]
    }
   ],
   "source": [
    "label_dict = {\"word2idx\": {}, \"idx2word\": []}\n",
    "idx = 0\n",
    "genre_pm = df_movietotal_copy[\"Genre\"].apply(lambda x: str(x).split(\"|\"))\n",
    "for l in [g for d in genre_pm for g in d]:\n",
    "    if l in label_dict[\"idx2word\"]:\n",
    "        pass\n",
    "    else:\n",
    "        label_dict[\"idx2word\"].append(l)\n",
    "        label_dict[\"word2idx\"][l] = idx\n",
    "        idx += 1\n",
    "\n",
    "genre_per_movie = df_movietotal_copy[\"Genre\"].apply(lambda x: str(x).split(\"|\"))\n",
    "\n",
    "print(genre_per_movie)"
   ]
  },
  {
   "cell_type": "code",
   "execution_count": 22,
   "metadata": {},
   "outputs": [
    {
     "name": "stdout",
     "output_type": "stream",
     "text": [
      "Animation 1704\n",
      "Adventure 3806\n",
      "Comedy 12562\n",
      "Action 5307\n",
      "Family 2084\n",
      "Romance 6188\n",
      "Drama 19850\n",
      "Crime 5249\n",
      "Thriller 4797\n",
      "Fantasy 2004\n",
      "Horror 3981\n",
      "Biography 1971\n",
      "History 1403\n",
      "Mystery 2387\n",
      "Sci-Fi 2002\n",
      "War 1162\n",
      "Sport 698\n",
      "Music 2075\n",
      "Documentary 3556\n",
      "Musical 837\n",
      "Western 846\n",
      "Short 918\n",
      "Film-Noir 403\n",
      "Talk-Show 6\n",
      "News 79\n",
      "Adult 9\n",
      "Reality-TV 2\n",
      "Game-Show 1\n"
     ]
    }
   ],
   "source": [
    "def genre_count(df, label_dict):\n",
    "    max_genre = 0\n",
    "    for label in label_dict[\"idx2word\"]:\n",
    "        occurrences = len((df[df['Genre'].str.contains(label)]))\n",
    "        print(label, occurrences)\n",
    "        if occurrences > max_genre:\n",
    "            max_genre = occurrences\n",
    "    return max_genre\n",
    "\n",
    "max_genre = genre_count(df_movietotal_copy, label_dict)"
   ]
  },
  {
   "cell_type": "code",
   "execution_count": 7,
   "metadata": {},
   "outputs": [
    {
     "name": "stdout",
     "output_type": "stream",
     "text": [
      "Random over-sampling:\n",
      "Animation 3346\n",
      "Adventure 5313\n",
      "Comedy 12562\n",
      "Action 6630\n",
      "Family 3320\n",
      "Romance 7249\n",
      "Drama 19850\n",
      "Crime 7129\n",
      "Thriller 6133\n",
      "Fantasy 2789\n",
      "Horror 6350\n",
      "Biography 4148\n",
      "History 3524\n",
      "Mystery 3392\n",
      "Sci-Fi 2426\n",
      "War 2310\n",
      "Sport 2768\n",
      "Music 4497\n",
      "Documentary 11488\n",
      "Musical 2853\n",
      "Western 2013\n",
      "Short 2271\n",
      "Film-Noir 2367\n",
      "Talk-Show 1991\n",
      "News 2121\n",
      "Adult 1994\n",
      "Reality-TV 1987\n",
      "Game-Show 1\n",
      "19850\n"
     ]
    }
   ],
   "source": [
    "df_movietotal_copy2 = df_movietotal_copy[~df_movietotal_copy[\"Genre\"].str.contains(\"Comedy\")]\n",
    "df_movietotal_copy2 = df_movietotal_copy2[~df_movietotal_copy2[\"Genre\"].str.contains(\"Drama\")]\n",
    "    \n",
    "for label in label_dict[\"idx2word\"]:\n",
    "    if label not in [\"Drama\", \"Comedy\", \"Game-Show\"]:\n",
    "        len_genre = len(df_movietotal_copy[df_movietotal_copy['Genre'].str.contains(label)])\n",
    "        df_genre = df_movietotal_copy2[df_movietotal_copy2['Genre'].str.contains(label)]\n",
    "        #df_genre['genres'] = [label+\"|\" for i in range (0, len(df_genre))]    \n",
    "        if (max_genre - len_genre) > 0:\n",
    "            if len_genre > 3000:\n",
    "                param = 0\n",
    "            elif len_genre > 2000:\n",
    "                param = 0.01\n",
    "            elif len_genre > 1000:\n",
    "                param = 0.05\n",
    "            else:\n",
    "                param = 0.1\n",
    "            df_class_over = df_genre.sample(int((max_genre-len_genre)*param)+1, replace=True)\n",
    "            df_movietotal_copy = pd.concat([df_movietotal_copy, df_class_over], axis=0)\n",
    "\n",
    "print('Random over-sampling:')\n",
    "print(genre_count(df_movietotal_copy, label_dict))"
   ]
  },
  {
   "cell_type": "code",
   "execution_count": 23,
   "metadata": {},
   "outputs": [
    {
     "data": {
      "text/plain": [
       "39246"
      ]
     },
     "execution_count": 23,
     "metadata": {},
     "output_type": "execute_result"
    }
   ],
   "source": [
    "len(df_movietotal_copy)"
   ]
  },
  {
   "cell_type": "code",
   "execution_count": 24,
   "metadata": {},
   "outputs": [],
   "source": [
    "savelocation = \"D:/Uni/Pattern Recognition/Project/Movies/posters/\"\n",
    "\n",
    "image_glob = glob.glob(savelocation + \"*.jpg\")\n",
    "img_dict = {}"
   ]
  },
  {
   "cell_type": "code",
   "execution_count": 25,
   "metadata": {},
   "outputs": [],
   "source": [
    "def get_id(filename):\n",
    "    index_s = filename.rfind(\"/\") + 1\n",
    "    index_f = filename.rfind(\".jpg\")\n",
    "    return filename[index_s:index_f]"
   ]
  },
  {
   "cell_type": "code",
   "execution_count": 26,
   "metadata": {},
   "outputs": [],
   "source": [
    "for fn in image_glob:\n",
    "    try:\n",
    "        img_dict[get_id(fn)] = imageio.imread(fn)\n",
    "    except:\n",
    "        pass"
   ]
  },
  {
   "cell_type": "code",
   "execution_count": 27,
   "metadata": {},
   "outputs": [],
   "source": [
    "def show_img(idx):\n",
    "    savelocation = \"D:/Uni/Pattern Recognition/Project/Movies/posters/\"\n",
    "    title = np.array(df_movietotal_copy[df_movietotal_copy[\"imdbId\"] == int(idx[8:])][\"Title\"])[0]\n",
    "    genre = np.array(df_movietotal_copy[df_movietotal_copy[\"imdbId\"] == int(idx[8:])][\"Genre\"])[0]\n",
    "    \n",
    "    g = genre.split(\"|\")\n",
    "    \n",
    "    plt.imshow(img_dict[idx])\n",
    "    plt.title(\"{} \\n {}\".format(title, genre))\n",
    "    \n",
    "    return imageio.imread(savelocation + idx[8:] +\".jpg\"), g"
   ]
  },
  {
   "cell_type": "code",
   "execution_count": 28,
   "metadata": {},
   "outputs": [],
   "source": [
    "def preprocess(img, size=(150, 101, 3)):\n",
    "    img = skimage.transform.resize(img, size)\n",
    "    img = img.astype(np.float32)\n",
    "    img = (img / 127.5) - 1.\n",
    "    return img"
   ]
  },
  {
   "cell_type": "code",
   "execution_count": 29,
   "metadata": {},
   "outputs": [],
   "source": [
    "def prepare_data(data, img_dict, label_dict, size=(150, 101, 3)):\n",
    "    print(\"Generation dataset...\")\n",
    "    \n",
    "    dataset = []\n",
    "    y = []\n",
    "    ids = []\n",
    "    \n",
    "    n_samples = len(img_dict)\n",
    "    print(\"got {} posters\".format(n_samples))\n",
    "    \n",
    "    count = 0\n",
    "    \n",
    "    for key, value in img_dict.items():\n",
    "        \n",
    "        if int(key[8:]) in data[\"imdbId\"].values:\n",
    "            G = data[data[\"imdbId\"] == int(key[8:])][\"Genre\"].values\n",
    "            for g in G: \n",
    "                g = g.split(\"|\")\n",
    "                \n",
    "                img = preprocess(img_dict[key], size)\n",
    "                \n",
    "                if img.shape != (150, 101, 3):\n",
    "                    continue\n",
    "                l = np.sum([np.eye( len(label_dict[\"idx2word\"]) , dtype=\"uint8\")[label_dict[\"word2idx\"][s]] for s in g], axis=0)\n",
    "\n",
    "                y.append(l)\n",
    "                dataset.append(img)\n",
    "                ids.append(int(key[8:]))\n",
    "                            \n",
    "    print(\"DONE\")\n",
    "    print(len(dataset))\n",
    "    return dataset, y, ids"
   ]
  },
  {
   "cell_type": "code",
   "execution_count": 30,
   "metadata": {},
   "outputs": [
    {
     "name": "stdout",
     "output_type": "stream",
     "text": [
      "Generation dataset...\n",
      "got 38667 posters\n",
      "DONE\n",
      "39123\n"
     ]
    }
   ],
   "source": [
    "SIZE = (150, 101, 3)\n",
    "dataset, y, ids =  prepare_data(df_movietotal_copy, img_dict, label_dict, size=SIZE)"
   ]
  },
  {
   "cell_type": "code",
   "execution_count": 47,
   "metadata": {},
   "outputs": [],
   "source": [
    "def store_data(name, data):\n",
    "    #name = 'Variables/' + name + '.pickle'\n",
    "    name = 'D:/New folder/' + name + '.pickle'\n",
    "    with open(name, 'wb') as f:\n",
    "        pickle.dump(data, f)\n",
    "\n",
    "def load_data(name):\n",
    "    #name = 'Variables/' + name + '.pickle'\n",
    "    name = 'D:/New folder/' + name + '.pickle'\n",
    "    with open(name, 'rb') as f:\n",
    "        data = pickle.load(f)\n",
    "    \n",
    "    return data "
   ]
  },
  {
   "cell_type": "code",
   "execution_count": 24,
   "metadata": {},
   "outputs": [
    {
     "name": "stderr",
     "output_type": "stream",
     "text": [
      "\n",
      "KeyboardInterrupt\n",
      "\n"
     ]
    }
   ],
   "source": [
    "store_data('dataset', dataset)\n",
    "store_data('y', y)\n",
    "store_data('ids', ids)"
   ]
  },
  {
   "cell_type": "code",
   "execution_count": null,
   "metadata": {},
   "outputs": [],
   "source": [
    "dataset = load_data('dataset')\n",
    "y = load_data('y')\n",
    "ids = load_data('ids')"
   ]
  },
  {
   "cell_type": "code",
   "execution_count": 31,
   "metadata": {},
   "outputs": [],
   "source": [
    "import tensorflow\n",
    "#import keras\n",
    "from tensorflow.keras import Sequential\n",
    "from tensorflow.keras.layers import Dense, Dropout, Flatten\n",
    "from tensorflow.keras.layers import Conv2D, MaxPooling2D, BatchNormalization"
   ]
  },
  {
   "cell_type": "code",
   "execution_count": 32,
   "metadata": {},
   "outputs": [],
   "source": [
    "#SIZE = (150, 101, 3)\n",
    "model = Sequential()\n",
    "model.add(Conv2D(32, kernel_size=(3, 3), activation='relu', input_shape=(SIZE[0], SIZE[1], 3)))\n",
    "model.add(Conv2D(64, (3, 3), activation='relu'))\n",
    "model.add(MaxPooling2D(pool_size=(2, 2)))\n",
    "model.add(Dropout(0.25))\n",
    "\n",
    "model.add(Conv2D(128, kernel_size=(3, 3), activation='relu'))\n",
    "model.add(Conv2D(64, (3, 3), activation='relu'))\n",
    "model.add(MaxPooling2D(pool_size=(2, 2)))\n",
    "model.add(Dropout(0.25))\n",
    "\n",
    "model.add(Flatten())\n",
    "model.add(Dense(128, activation='relu'))\n",
    "model.add(Dropout(0.5))\n",
    "model.add(Dense(28, activation='sigmoid'))"
   ]
  },
  {
   "cell_type": "code",
   "execution_count": 27,
   "metadata": {},
   "outputs": [],
   "source": [
    "from focal_loss import SparseCategoricalFocalLoss\n",
    "model.compile(loss=BinaryFocalLoss(gamma=2, from_logits=False), optimizer=tensorflow.keras.optimizers.Adagrad(), metrics=['accuracy'])"
   ]
  },
  {
   "cell_type": "code",
   "execution_count": 60,
   "metadata": {},
   "outputs": [],
   "source": [
    "model.compile(loss=SparseCategoricalFocalLoss(gamma=2, from_logits=True), optimizer=tensorflow.keras.optimizers.Adagrad(), metrics=['accuracy'])"
   ]
  },
  {
   "cell_type": "code",
   "execution_count": 33,
   "metadata": {},
   "outputs": [],
   "source": [
    "model.compile(loss='binary_crossentropy', optimizer=tensorflow.keras.optimizers.Adagrad(), metrics=['accuracy'])"
   ]
  },
  {
   "cell_type": "code",
   "execution_count": 34,
   "metadata": {},
   "outputs": [
    {
     "name": "stdout",
     "output_type": "stream",
     "text": [
      "Epoch 1/5\n",
      "225/225 [==============================] - 150s 666ms/step - loss: 0.4330 - accuracy: 0.0975 - val_loss: 0.2810 - val_accuracy: 0.2625\n",
      "Epoch 2/5\n",
      "225/225 [==============================] - 149s 661ms/step - loss: 0.3266 - accuracy: 0.1492 - val_loss: 0.2563 - val_accuracy: 0.2625\n",
      "Epoch 3/5\n",
      "225/225 [==============================] - 155s 687ms/step - loss: 0.3079 - accuracy: 0.1642 - val_loss: 0.2515 - val_accuracy: 0.2625\n",
      "Epoch 4/5\n",
      "225/225 [==============================] - 163s 722ms/step - loss: 0.2930 - accuracy: 0.1750 - val_loss: 0.2443 - val_accuracy: 0.2625\n",
      "Epoch 5/5\n",
      "225/225 [==============================] - 160s 711ms/step - loss: 0.2850 - accuracy: 0.1886 - val_loss: 0.2406 - val_accuracy: 0.2625\n"
     ]
    },
    {
     "data": {
      "text/plain": [
       "<tensorflow.python.keras.callbacks.History at 0x17020f8b518>"
      ]
     },
     "execution_count": 34,
     "metadata": {},
     "output_type": "execute_result"
    }
   ],
   "source": [
    "n = 4000\n",
    "model.fit(np.array(dataset[: n]), np.array(y[: n]), batch_size=16, epochs=5, verbose=1, validation_split=0.1)"
   ]
  },
  {
   "cell_type": "code",
   "execution_count": 48,
   "metadata": {},
   "outputs": [
    {
     "ename": "TypeError",
     "evalue": "can't pickle _thread.RLock objects",
     "output_type": "error",
     "traceback": [
      "\u001b[1;31m---------------------------------------------------------------------------\u001b[0m",
      "\u001b[1;31mTypeError\u001b[0m                                 Traceback (most recent call last)",
      "\u001b[1;32m<ipython-input-48-74c8b97c0a1b>\u001b[0m in \u001b[0;36m<module>\u001b[1;34m\u001b[0m\n\u001b[1;32m----> 1\u001b[1;33m \u001b[0mstore_data\u001b[0m\u001b[1;33m(\u001b[0m\u001b[1;34m'model'\u001b[0m\u001b[1;33m,\u001b[0m \u001b[0mmodel\u001b[0m\u001b[1;33m)\u001b[0m\u001b[1;33m\u001b[0m\u001b[1;33m\u001b[0m\u001b[0m\n\u001b[0m",
      "\u001b[1;32m<ipython-input-47-b6d24a5b3229>\u001b[0m in \u001b[0;36mstore_data\u001b[1;34m(name, data)\u001b[0m\n\u001b[0;32m      3\u001b[0m     \u001b[0mname\u001b[0m \u001b[1;33m=\u001b[0m \u001b[1;34m'D:/New folder/'\u001b[0m \u001b[1;33m+\u001b[0m \u001b[0mname\u001b[0m \u001b[1;33m+\u001b[0m \u001b[1;34m'.pickle'\u001b[0m\u001b[1;33m\u001b[0m\u001b[1;33m\u001b[0m\u001b[0m\n\u001b[0;32m      4\u001b[0m     \u001b[1;32mwith\u001b[0m \u001b[0mopen\u001b[0m\u001b[1;33m(\u001b[0m\u001b[0mname\u001b[0m\u001b[1;33m,\u001b[0m \u001b[1;34m'wb'\u001b[0m\u001b[1;33m)\u001b[0m \u001b[1;32mas\u001b[0m \u001b[0mf\u001b[0m\u001b[1;33m:\u001b[0m\u001b[1;33m\u001b[0m\u001b[1;33m\u001b[0m\u001b[0m\n\u001b[1;32m----> 5\u001b[1;33m         \u001b[0mpickle\u001b[0m\u001b[1;33m.\u001b[0m\u001b[0mdump\u001b[0m\u001b[1;33m(\u001b[0m\u001b[0mdata\u001b[0m\u001b[1;33m,\u001b[0m \u001b[0mf\u001b[0m\u001b[1;33m)\u001b[0m\u001b[1;33m\u001b[0m\u001b[1;33m\u001b[0m\u001b[0m\n\u001b[0m\u001b[0;32m      6\u001b[0m \u001b[1;33m\u001b[0m\u001b[0m\n\u001b[0;32m      7\u001b[0m \u001b[1;32mdef\u001b[0m \u001b[0mload_data\u001b[0m\u001b[1;33m(\u001b[0m\u001b[0mname\u001b[0m\u001b[1;33m)\u001b[0m\u001b[1;33m:\u001b[0m\u001b[1;33m\u001b[0m\u001b[1;33m\u001b[0m\u001b[0m\n",
      "\u001b[1;31mTypeError\u001b[0m: can't pickle _thread.RLock objects"
     ]
    }
   ],
   "source": [
    "store_data('model', model)"
   ]
  },
  {
   "cell_type": "code",
   "execution_count": 55,
   "metadata": {},
   "outputs": [
    {
     "name": "stdout",
     "output_type": "stream",
     "text": [
      "Saved model to disk\n"
     ]
    }
   ],
   "source": [
    "model_json = model.to_json()\n",
    "with open(\"model.json\", \"w\") as json_file:\n",
    "    json_file.write(model_json)\n",
    "    \n",
    "# serialize weights to HDF5\n",
    "model.save_weights(\"model.h5\")\n",
    "print(\"Saved model to disk\")"
   ]
  },
  {
   "cell_type": "code",
   "execution_count": 6,
   "metadata": {},
   "outputs": [
    {
     "name": "stdout",
     "output_type": "stream",
     "text": [
      "Loaded model from disk\n"
     ]
    }
   ],
   "source": [
    "json_file = open('binary_crossentropy.json', 'r')\n",
    "loaded_model_json = json_file.read()\n",
    "json_file.close()\n",
    "model = tensorflow.keras.models.model_from_json(loaded_model_json)\n",
    "# load weights into new model\n",
    "model.load_weights(\"binary_crossentropy.h5\")\n",
    "print(\"Loaded model from disk\")"
   ]
  },
  {
   "cell_type": "code",
   "execution_count": 16,
   "metadata": {},
   "outputs": [
    {
     "ename": "TypeError",
     "evalue": "'NoneType' object is not callable",
     "output_type": "error",
     "traceback": [
      "\u001b[1;31m---------------------------------------------------------------------------\u001b[0m",
      "\u001b[1;31mTypeError\u001b[0m                                 Traceback (most recent call last)",
      "\u001b[1;32m<ipython-input-16-5747183b3ca8>\u001b[0m in \u001b[0;36m<module>\u001b[1;34m\u001b[0m\n\u001b[1;32m----> 1\u001b[1;33m \u001b[0mmodel\u001b[0m\u001b[1;33m.\u001b[0m\u001b[0mhistory\u001b[0m\u001b[1;33m(\u001b[0m\u001b[1;33m)\u001b[0m\u001b[1;33m\u001b[0m\u001b[1;33m\u001b[0m\u001b[0m\n\u001b[0m",
      "\u001b[1;31mTypeError\u001b[0m: 'NoneType' object is not callable"
     ]
    }
   ],
   "source": [
    "model.history()"
   ]
  },
  {
   "cell_type": "code",
   "execution_count": 13,
   "metadata": {},
   "outputs": [
    {
     "ename": "TypeError",
     "evalue": "'NoneType' object is not subscriptable",
     "output_type": "error",
     "traceback": [
      "\u001b[1;31m---------------------------------------------------------------------------\u001b[0m",
      "\u001b[1;31mTypeError\u001b[0m                                 Traceback (most recent call last)",
      "\u001b[1;32m<ipython-input-13-ecf696f6b554>\u001b[0m in \u001b[0;36m<module>\u001b[1;34m\u001b[0m\n\u001b[1;32m----> 1\u001b[1;33m \u001b[0mmodel\u001b[0m\u001b[1;33m.\u001b[0m\u001b[0mhistory\u001b[0m\u001b[1;33m[\u001b[0m\u001b[1;34m'loss'\u001b[0m\u001b[1;33m]\u001b[0m\u001b[1;33m\u001b[0m\u001b[1;33m\u001b[0m\u001b[0m\n\u001b[0m",
      "\u001b[1;31mTypeError\u001b[0m: 'NoneType' object is not subscriptable"
     ]
    }
   ],
   "source": [
    "model.history['loss']"
   ]
  },
  {
   "cell_type": "code",
   "execution_count": 35,
   "metadata": {},
   "outputs": [],
   "source": [
    "n_test = 100\n",
    "X_test = dataset[n:n + n_test]\n",
    "y_test = np.array(y[n:n + n_test])"
   ]
  },
  {
   "cell_type": "code",
   "execution_count": 36,
   "metadata": {},
   "outputs": [],
   "source": [
    "pred = model.predict(np.array(X_test))"
   ]
  },
  {
   "cell_type": "code",
   "execution_count": 37,
   "metadata": {},
   "outputs": [],
   "source": [
    "def largest_ele(l, n):\n",
    "    l = l.copy()\n",
    "    s = []\n",
    "    \n",
    "    for i in range(n):\n",
    "        num = np.argmax(l)\n",
    "        s.append(num)\n",
    "        l[num] = 0\n",
    "\n",
    "    return np.array(s)"
   ]
  },
  {
   "cell_type": "code",
   "execution_count": 38,
   "metadata": {},
   "outputs": [],
   "source": [
    "def accuracy_score(y_test, pred):\n",
    "    value = 0\n",
    "    num_of_gen = 0\n",
    "    for i in range(len(pred)):\n",
    "        correct = np.array(np.where(y_test[i] == 1))\n",
    "        correct = correct[0]\n",
    "        perdicted = np.sort(largest_ele(pred[i], len(correct)))\n",
    "        \n",
    "        num_of_gen = 0\n",
    "        \n",
    "        for j in range(len(correct)):\n",
    "            for k in range(len(perdicted)):\n",
    "                if(perdicted[k] == correct[j]):\n",
    "                    num_of_gen = num_of_gen + 1\n",
    "\n",
    "        num_of_gen = num_of_gen / len(correct)\n",
    "        \n",
    "        value = value + num_of_gen\n",
    "            \n",
    "    print(value/len(pred))"
   ]
  },
  {
   "cell_type": "code",
   "execution_count": 39,
   "metadata": {},
   "outputs": [
    {
     "name": "stdout",
     "output_type": "stream",
     "text": [
      "0.44166666666666676\n"
     ]
    }
   ],
   "source": [
    "accuracy_score(y_test, pred)"
   ]
  },
  {
   "cell_type": "code",
   "execution_count": 42,
   "metadata": {},
   "outputs": [
    {
     "name": "stdout",
     "output_type": "stream",
     "text": [
      "Original genres: \n",
      "Action\n",
      "Crime\n",
      "Mystery\n",
      "\n",
      "Predicted genres: \n",
      "Comedy\n",
      "Romance\n",
      "Drama\n"
     ]
    },
    {
     "data": {
      "image/png": "[encoded data removed]",
      "text/plain": [
       "<Figure size 432x288 with 1 Axes>"
      ]
     },
     "metadata": {
      "needs_background": "light"
     },
     "output_type": "display_data"
    }
   ],
   "source": [
    "from IPython.display import clear_output\n",
    "\n",
    "def GenrePerdictor(img):\n",
    "    print(\"Original genres: \")\n",
    "    img, genre = show_img(\"posters\" + \"\\\\\" + img)\n",
    "    for i in genre:\n",
    "        print(i)\n",
    "    \n",
    "    dataset = []\n",
    "    img = preprocess(img)\n",
    "    dataset.append(img)\n",
    "    \n",
    "    pred = model.predict(np.array(dataset))\n",
    "\n",
    "    perdicted = np.sort(largest_ele(pred[0], len(genre)))\n",
    "    \n",
    "    print(\"\")\n",
    "    print(\"Predicted genres: \")\n",
    "    for i in perdicted:\n",
    "        print(label_dict[\"idx2word\"][i])\n",
    "\n",
    "img = input(\"Enter image name: \")\n",
    "clear_output(wait=True)\n",
    "\n",
    "GenrePerdictor(img)"
   ]
  },
  {
   "cell_type": "code",
   "execution_count": null,
   "metadata": {},
   "outputs": [],
   "source": []
  }
 ],
 "metadata": {
  "kernelspec": {
   "display_name": "Python [conda env:tensorflow] *",
   "language": "python",
   "name": "conda-env-tensorflow-py"
  },
  "language_info": {
   "codemirror_mode": {
    "name": "ipython",
    "version": 3
   },
   "file_extension": ".py",
   "mimetype": "text/x-python",
   "name": "python",
   "nbconvert_exporter": "python",
   "pygments_lexer": "ipython3",
   "version": "3.6.9"
  }
 },
 "nbformat": 4,
 "nbformat_minor": 2
}
