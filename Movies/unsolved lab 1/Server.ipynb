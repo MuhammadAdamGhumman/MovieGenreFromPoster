{
 "cells": [
  {
   "cell_type": "code",
   "execution_count": null,
   "metadata": {},
   "outputs": [],
   "source": [
    "import socket\n",
    "import psutil\n",
    "import os\n",
    "\n",
    "s = socket.socket(socket.AF_INET, socket.SOCK_STREAM)\n",
    "s.bind((socket.gethostname(), 12345))\n",
    "s.listen(5)\n",
    "clientsocket, address = s.accept()\n",
    "print(\"connection established {address}\")\n",
    "clientsocket.sendall(b\"welcome to server!\")\n",
    "\n",
    "while True:\n",
    "    msg = clientsocket.recv(1024)\n",
    "    \n",
    "    pid = psutil.Process(os.getpid())\n",
    "    clientsocket.sendall((str(os.getpid()) + \" \" + pid.name() + \" \" + str(pid.memory_info().rss) + \" bytes\").encode() )\n",
    "\n",
    "    \n",
    "        \n",
    "\n"
   ]
  },
  {
   "cell_type": "code",
   "execution_count": null,
   "metadata": {},
   "outputs": [],
   "source": []
  },
  {
   "cell_type": "code",
   "execution_count": null,
   "metadata": {},
   "outputs": [],
   "source": []
  }
 ],
 "metadata": {
  "kernelspec": {
   "display_name": "Python 3",
   "language": "python",
   "name": "python3"
  },
  "language_info": {
   "codemirror_mode": {
    "name": "ipython",
    "version": 3
   },
   "file_extension": ".py",
   "mimetype": "text/x-python",
   "name": "python",
   "nbconvert_exporter": "python",
   "pygments_lexer": "ipython3",
   "version": "3.7.4"
  }
 },
 "nbformat": 4,
 "nbformat_minor": 1
}
