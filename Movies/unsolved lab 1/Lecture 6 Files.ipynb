{
 "cells": [
  {
   "cell_type": "markdown",
   "metadata": {},
   "source": [
    "# Contents\n",
    "## 1. Opening files\n",
    "## 2. Reading files\n",
    "## 3. Using try, except, and open\n",
    "## 4. Writing files"
   ]
  },
  {
   "cell_type": "markdown",
   "metadata": {},
   "source": [
    "# 1. Opening files"
   ]
  },
  {
   "cell_type": "code",
   "execution_count": null,
   "metadata": {},
   "outputs": [],
   "source": [
    "fhand = open('test.txt')"
   ]
  },
  {
   "cell_type": "code",
   "execution_count": null,
   "metadata": {},
   "outputs": [],
   "source": [
    "print (fhand)"
   ]
  },
  {
   "cell_type": "code",
   "execution_count": null,
   "metadata": {},
   "outputs": [],
   "source": [
    "fhand = open('test1.txt')"
   ]
  },
  {
   "cell_type": "markdown",
   "metadata": {},
   "source": [
    "# 2. Reading files"
   ]
  },
  {
   "cell_type": "code",
   "execution_count": null,
   "metadata": {},
   "outputs": [],
   "source": [
    "# counting no of line\n",
    "fhand = open('test.txt')\n",
    "count = 0\n",
    "for line in fhand:\n",
    "    print (line)\n",
    "    count = count + 1\n",
    "print ('Line Count:', count)"
   ]
  },
  {
   "cell_type": "code",
   "execution_count": null,
   "metadata": {},
   "outputs": [],
   "source": [
    "fhand = open('test.txt')\n",
    "inp = fhand.read()\n",
    "len(inp)"
   ]
  },
  {
   "cell_type": "code",
   "execution_count": null,
   "metadata": {},
   "outputs": [],
   "source": [
    "inp[:10]"
   ]
  },
  {
   "cell_type": "code",
   "execution_count": null,
   "metadata": {},
   "outputs": [],
   "source": [
    "#read the file line by line and print it in reverse order\n",
    "fhand = open('test.txt')\n",
    "count = 0\n",
    "stuff = []\n",
    "for line in fhand:\n",
    "    stuff.append(line)\n",
    "    count = count + 1\n",
    "\n",
    "while(count > 0):\n",
    "    print(stuff[count - 1])\n",
    "    count = count - 1"
   ]
  },
  {
   "cell_type": "code",
   "execution_count": 1,
   "metadata": {},
   "outputs": [],
   "source": [
    "# read the complete file and reverse its words and store it in a new file \"reverse.txt\"\n",
    "fhand = open('test.txt')\n",
    "inp = fhand.read()\n",
    "\n",
    "l = len(inp)\n",
    "\n",
    "msg = \"\"\n",
    "\n",
    "file = open(\"reverse.txt\", \"w\")\n",
    "file.write(msg)\n",
    "\n",
    "file = open(\"reverse.txt\", \"a\")\n",
    "while(l > 0):\n",
    "    file.write(inp[l - 1])\n",
    "    #print(inp[l - 1])\n",
    "    l = l - 1\n",
    "    \n",
    "fhand.close()\n",
    "file.close()"
   ]
  },
  {
   "cell_type": "markdown",
   "metadata": {},
   "source": [
    "# 3. Using try, except, and open"
   ]
  },
  {
   "cell_type": "code",
   "execution_count": 1,
   "metadata": {},
   "outputs": [
    {
     "name": "stdout",
     "output_type": "stream",
     "text": [
      "Enter the file name: test.txt\n",
      "There were 11  lines in test.txt\n"
     ]
    }
   ],
   "source": [
    "fname = input('Enter the file name: ')\n",
    "#fname = 'test.txt'\n",
    "try:\n",
    "    fhand = open(fname)\n",
    "except:\n",
    "    print ('File cannot be opened:', fname)\n",
    "    exit()\n",
    "count = 0\n",
    "for line in fhand:\n",
    "    #if line.startswith('Subject:') :\n",
    "    count = count + 1\n",
    "print ('There were', count, ' lines in', fname)"
   ]
  },
  {
   "cell_type": "code",
   "execution_count": null,
   "metadata": {},
   "outputs": [],
   "source": []
  },
  {
   "cell_type": "markdown",
   "metadata": {},
   "source": [
    "# 4. Writing files"
   ]
  },
  {
   "cell_type": "code",
   "execution_count": 2,
   "metadata": {},
   "outputs": [],
   "source": [
    "fout = open('output.txt', 'w')"
   ]
  },
  {
   "cell_type": "code",
   "execution_count": 3,
   "metadata": {},
   "outputs": [],
   "source": [
    "line1 = \"This here's the wattle,\\n\"\n",
    "fout.write(line1)\n",
    "fout.close()"
   ]
  },
  {
   "cell_type": "code",
   "execution_count": 4,
   "metadata": {},
   "outputs": [],
   "source": [
    "s = '1 2\\t 3\\n 4'"
   ]
  },
  {
   "cell_type": "code",
   "execution_count": 5,
   "metadata": {},
   "outputs": [
    {
     "name": "stdout",
     "output_type": "stream",
     "text": [
      "1 2\t 3\n",
      " 4\n"
     ]
    }
   ],
   "source": [
    "print(s)"
   ]
  },
  {
   "cell_type": "code",
   "execution_count": 6,
   "metadata": {},
   "outputs": [
    {
     "name": "stdout",
     "output_type": "stream",
     "text": [
      "'1 2\\t 3\\n 4'\n"
     ]
    }
   ],
   "source": [
    "print (repr(s))"
   ]
  },
  {
   "cell_type": "code",
   "execution_count": 8,
   "metadata": {},
   "outputs": [],
   "source": [
    "#create a new file having name \"Numbers.txt\" and write counting 1-100 using for loop\n",
    "fout = open('Numbers.txt', 'w')\n",
    "for i in range(1, 101):\n",
    "    fout.write(str(i))\n",
    "fout.close()"
   ]
  },
  {
   "cell_type": "code",
   "execution_count": 12,
   "metadata": {},
   "outputs": [
    {
     "name": "stdout",
     "output_type": "stream",
     "text": [
      "Enter the your name: Adam\n",
      "Enter the your age: 21\n",
      "Enter the your university name: ITU\n",
      "Enter the your class: BSCS\n",
      "Enter the your role number: BSCS17051\n"
     ]
    }
   ],
   "source": [
    "#create a new file having name \"Info.txt\" and save your firends info in that file\n",
    "# You should ask for name, age, university, class, roll number using input command from your frind and store it in the file one by one\n",
    "\n",
    "fout = open('Info.txt', 'w')\n",
    "\n",
    "fname = input('Enter the your name: ')\n",
    "fage = input('Enter the your age: ')\n",
    "funi = input('Enter the your university name: ')\n",
    "fclass = input('Enter the your class: ')\n",
    "frollnum = input('Enter the your role number: ')\n",
    "\n",
    "fout.write(fname + \"\\n\" + fage + \"\\n\" + funi + \"\\n\" + fclass + \"\\n\" + frollnum)\n",
    "\n",
    "fout.close()"
   ]
  },
  {
   "cell_type": "code",
   "execution_count": 13,
   "metadata": {},
   "outputs": [
    {
     "name": "stdout",
     "output_type": "stream",
     "text": [
      "5\n"
     ]
    }
   ],
   "source": [
    "## Find the line count of file info.txt\n",
    "fout = open('Info.txt')\n",
    "\n",
    "count = 0\n",
    "for line in fout:\n",
    "    count = count + 1\n",
    "    \n",
    "print(count)\n",
    "fout.close()"
   ]
  },
  {
   "cell_type": "code",
   "execution_count": 14,
   "metadata": {},
   "outputs": [
    {
     "name": "stdout",
     "output_type": "stream",
     "text": [
      "c\n",
      "s\n"
     ]
    }
   ],
   "source": [
    "## print the characters at the 13th to 21st index\n",
    "fout = open('test.txt')\n",
    "inp = fout.read()\n",
    "\n",
    "print(inp[13])\n",
    "print(inp[21])\n",
    "\n",
    "fout.close()"
   ]
  },
  {
   "cell_type": "code",
   "execution_count": 17,
   "metadata": {},
   "outputs": [
    {
     "name": "stdout",
     "output_type": "stream",
     "text": [
      "o\n",
      "y\n",
      "B\n",
      "a\n",
      "r\n",
      "b\n",
      "c\n",
      "m\n",
      " \n",
      "o\n",
      "s\n",
      "s\n",
      "e\n",
      "\"\n",
      "w\n",
      "t\n",
      " \n",
      "r\n",
      "a\n",
      "i\n",
      "g\n",
      "o\n",
      " \n",
      "r\n",
      "n\n",
      "i\n",
      "g\n",
      "t\n",
      "e\n",
      "U\n",
      " \n",
      "o\n",
      "e\n",
      "h\n",
      "r\n",
      "\n",
      "\n",
      "h\n",
      "i\n",
      " \n",
      "o\n",
      "m\n",
      "r\n",
      "p\n",
      "i\n",
      "e\n",
      "m\n",
      "n\n",
      "s\n",
      "e\n",
      " \n",
      "h\n",
      " \n",
      "a\n",
      " \n",
      "e\n",
      "e\n",
      "l\n",
      "d\n",
      "\n",
      "\n",
      "e\n",
      "e\n",
      " \n",
      "o\n",
      "i\n",
      "s\n",
      "a\n",
      "d\n",
      "L\n",
      "b\n",
      "u\n",
      " \n",
      "P\n",
      " \n",
      "r\n",
      " \n",
      "l\n",
      "n\n",
      "i\n",
      "g\n",
      "a\n",
      "b\n",
      "l\n",
      " \n",
      "o\n",
      "s\n",
      "o\n",
      " \n",
      "h\n",
      " \n",
      "K\n",
      "l\n",
      "a\n",
      "i\n",
      "g\n",
      "t\n",
      "e\n",
      "E\n",
      " \n",
      "n\n",
      "3\n",
      " \n",
      "c\n",
      "o\n",
      "e\n",
      " \n",
      "i\n",
      "h\n",
      "u\n",
      " \n",
      " \n",
      "e\n",
      "l\n",
      "\n",
      "\n",
      "M\n",
      " \n",
      "o\n",
      "n\n",
      "o\n",
      " \n",
      "a\n",
      "d\n",
      "h\n",
      " \n",
      "i\n",
      " \n",
      "o\n",
      " \n",
      "a\n",
      "t\n",
      "a\n",
      " \n",
      "l\n",
      "c\n",
      "i\n",
      "n\n",
      " \n",
      "u\n",
      " \n",
      "r\n",
      "g\n",
      "e\n",
      "s\n",
      "w\n",
      "t\n",
      " \n",
      "h\n",
      " \n",
      "U\n",
      "w\n",
      "u\n",
      "d\n",
      "b\n",
      " \n",
      "i\n",
      "p\n",
      "s\n",
      "i\n",
      "l\n",
      "\"\n",
      "i\n",
      " \n",
      "h\n",
      " \n",
      "P\n",
      " \n",
      "i\n",
      ".\n",
      "\n",
      "\n",
      "e\n",
      "e\n",
      "y\n",
      "C\n",
      "r\n",
      "y\n",
      " \n",
      "a\n",
      "d\n",
      "t\n",
      "e\n",
      "L\n",
      "b\n",
      "u\n",
      " \n",
      "a\n",
      "t\n",
      " \n",
      "a\n",
      " \n",
      "e\n",
      "d\n",
      " \n",
      "o\n",
      " \n",
      " \n",
      "e\n",
      "e\n",
      "a\n",
      " \n",
      "l\n",
      "c\n",
      "i\n",
      "n\n",
      "\n",
      "\n",
      "B\n",
      "t\n",
      "s\n",
      "a\n",
      "o\n",
      " \n",
      "o\n",
      "t\n",
      "e\n",
      "n\n",
      "I\n",
      "e\n",
      "a\n",
      "d\n",
      "s\n",
      "c\n",
      "e\n",
      "a\n",
      "y\n",
      "T\n",
      "n\n",
      " \n",
      "l\n",
      "y\n",
      " \n",
      "a\n",
      "e\n",
      " \n",
      "a\n",
      "d\n",
      "L\n",
      "b\n",
      "u\n",
      " \n",
      "o\n",
      "l\n",
      " \n",
      "o\n",
      "e\n",
      "a\n",
      "a\n",
      "n\n",
      "t\n",
      "a\n",
      "y\n",
      "g\n",
      "v\n",
      "r\n",
      "m\n",
      "n\n",
      " \n",
      "l\n",
      "n\n",
      " \n",
      "o\n",
      "h\n",
      "l\n",
      " \n",
      " \n",
      "e\n",
      "e\n",
      "a\n",
      " \n",
      "l\n",
      "c\n",
      "i\n",
      "n\n",
      "b\n",
      "f\n",
      "r\n",
      " \n",
      "h\n",
      " \n",
      "K\n",
      "i\n",
      " \n",
      "u\n",
      " \n",
      "o\n",
      "l\n",
      "a\n",
      "e\n",
      "t\n",
      "e\n",
      "E\n",
      " \n",
      "n\n",
      "3\n",
      " \n",
      "c\n",
      "o\n",
      "e\n",
      ".\n",
      "\n",
      "\n",
      "e\n",
      "s\n",
      "i\n",
      " \n",
      "a\n",
      "o\n",
      "r\n",
      "\"\n",
      "i\n",
      "l\n",
      "n\n",
      "t\n",
      "h\n",
      "v\n",
      " \n",
      "o\n",
      "i\n",
      " \n",
      "o\n",
      "n\n",
      "o\n",
      " \n",
      "i\n",
      "t\n",
      "t\n",
      " \n",
      "h\n",
      " \n",
      "e\n",
      "m\n",
      " \n",
      "f\n",
      "a\n",
      " \n",
      "l\n",
      "c\n",
      "i\n",
      "n\n",
      "t\n",
      "a\n",
      " \n",
      "r\n",
      "s\n",
      "e\n",
      " \n",
      "h\n",
      "s\n",
      "c\n",
      "u\n",
      "t\n",
      "y\n",
      "o\n",
      "t\n",
      "w\n",
      "t\n",
      " \n",
      "o\n",
      "d\n",
      "a\n",
      "\"\n",
      "\n",
      "\n"
     ]
    }
   ],
   "source": [
    "## print the characters that lie on every odd index.\n",
    "fout = open('test.txt')\n",
    "inp = fout.read()\n",
    "\n",
    "for i in range(len(inp)):\n",
    "    if (i%2 != 0):\n",
    "        print(inp[i])\n",
    "\n",
    "fout.close()"
   ]
  },
  {
   "cell_type": "code",
   "execution_count": null,
   "metadata": {},
   "outputs": [],
   "source": []
  }
 ],
 "metadata": {
  "kernelspec": {
   "display_name": "Python 3",
   "language": "python",
   "name": "python3"
  },
  "language_info": {
   "codemirror_mode": {
    "name": "ipython",
    "version": 3
   },
   "file_extension": ".py",
   "mimetype": "text/x-python",
   "name": "python",
   "nbconvert_exporter": "python",
   "pygments_lexer": "ipython3",
   "version": "3.7.4"
  }
 },
 "nbformat": 4,
 "nbformat_minor": 2
}
