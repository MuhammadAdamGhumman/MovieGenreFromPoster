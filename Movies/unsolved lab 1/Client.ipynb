{
 "cells": [
  {
   "cell_type": "code",
   "execution_count": 2,
   "metadata": {},
   "outputs": [
    {
     "name": "stdout",
     "output_type": "stream",
     "text": [
      "b'welcome to server!'\n",
      "19208 python.exe 52350976 bytes  2020-03-05 17:41:51.356777\n"
     ]
    }
   ],
   "source": [
    "import socket\n",
    "from datetime import datetime\n",
    "\n",
    "\n",
    "s = socket.socket(socket.AF_INET, socket.SOCK_STREAM)\n",
    "s.connect((socket.gethostname(), 12345))\n",
    "\n",
    "msg = s.recv(1024)\n",
    "print(msg)\n",
    "\n",
    "s.sendall(b\"the\")\n",
    "\n",
    "msg = s.recv(1024)\n",
    "\n",
    "msg = msg.decode()\n",
    "\n",
    "now = datetime.now()\n",
    "\n",
    "timestamp = datetime.timestamp(now)\n",
    "\n",
    "dt_object = str(datetime.fromtimestamp(timestamp))\n",
    "\n",
    "msg = msg + \"  \" + dt_object\n",
    "\n",
    "file = open(\"test1.txt\", \"a\")\n",
    "file.write(msg)\n",
    "file.close()\n",
    "\n",
    "print(msg)"
   ]
  },
  {
   "cell_type": "code",
   "execution_count": null,
   "metadata": {},
   "outputs": [],
   "source": []
  },
  {
   "cell_type": "code",
   "execution_count": null,
   "metadata": {},
   "outputs": [],
   "source": []
  }
 ],
 "metadata": {
  "kernelspec": {
   "display_name": "Python 3",
   "language": "python",
   "name": "python3"
  },
  "language_info": {
   "codemirror_mode": {
    "name": "ipython",
    "version": 3
   },
   "file_extension": ".py",
   "mimetype": "text/x-python",
   "name": "python",
   "nbconvert_exporter": "python",
   "pygments_lexer": "ipython3",
   "version": "3.7.4"
  }
 },
 "nbformat": 4,
 "nbformat_minor": 1
}
