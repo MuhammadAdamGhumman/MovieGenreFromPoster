{
 "cells": [
  {
   "cell_type": "code",
   "execution_count": 1,
   "metadata": {},
   "outputs": [],
   "source": [
    "import numpy as np\n",
    "import pandas as pd\n",
    "import cv2\n",
    "import scipy.misc\n",
    "import matplotlib.pyplot as plt \n",
    "import glob\n",
    "import os\n",
    "from sklearn.preprocessing import LabelEncoder\n",
    "#import keras\n",
    "#from keras.models import Sequential\n",
    "#from keras.layers import Dense, Dropout, Flatten\n",
    "#from keras.layers import Conv2D, MaxPooling2D, BatchNormalization"
   ]
  },
  {
   "cell_type": "markdown",
   "metadata": {},
   "source": [
    "Loading Data"
   ]
  },
  {
   "cell_type": "code",
   "execution_count": 2,
   "metadata": {},
   "outputs": [
    {
     "name": "stdout",
     "output_type": "stream",
     "text": [
      "       imdbId                           Imdb Link  \\\n",
      "0      114709  http://www.imdb.com/title/tt114709   \n",
      "1      113497  http://www.imdb.com/title/tt113497   \n",
      "2      113228  http://www.imdb.com/title/tt113228   \n",
      "3      114885  http://www.imdb.com/title/tt114885   \n",
      "4      113041  http://www.imdb.com/title/tt113041   \n",
      "...       ...                                 ...   \n",
      "40103   83168   http://www.imdb.com/title/tt83168   \n",
      "40104   82875   http://www.imdb.com/title/tt82875   \n",
      "40105  815258  http://www.imdb.com/title/tt815258   \n",
      "40106   79142   http://www.imdb.com/title/tt79142   \n",
      "40107   70710   http://www.imdb.com/title/tt70710   \n",
      "\n",
      "                                    Title  IMDB Score  \\\n",
      "0                        Toy Story (1995)         8.3   \n",
      "1                          Jumanji (1995)         6.9   \n",
      "2                 Grumpier Old Men (1995)         6.6   \n",
      "3                Waiting to Exhale (1995)         5.7   \n",
      "4      Father of the Bride Part II (1995)         5.9   \n",
      "...                                   ...         ...   \n",
      "40103               Tanya's Island (1980)         4.3   \n",
      "40104               Pacific Banana (1981)         4.7   \n",
      "40105  Werewolf in a Womens Prison (2006)         4.5   \n",
      "40106              Xiao zi ming da (1979)         6.5   \n",
      "40107                     Snatched (1973)         6.5   \n",
      "\n",
      "                            Genre  \\\n",
      "0      Animation|Adventure|Comedy   \n",
      "1         Action|Adventure|Family   \n",
      "2                  Comedy|Romance   \n",
      "3            Comedy|Drama|Romance   \n",
      "4           Comedy|Family|Romance   \n",
      "...                           ...   \n",
      "40103                       Drama   \n",
      "40104                      Comedy   \n",
      "40105                      Horror   \n",
      "40106               Action|Comedy   \n",
      "40107        Crime|Drama|Thriller   \n",
      "\n",
      "                                                  Poster  \n",
      "0      https://images-na.ssl-images-amazon.com/images...  \n",
      "1      https://images-na.ssl-images-amazon.com/images...  \n",
      "2      https://images-na.ssl-images-amazon.com/images...  \n",
      "3      https://images-na.ssl-images-amazon.com/images...  \n",
      "4      https://images-na.ssl-images-amazon.com/images...  \n",
      "...                                                  ...  \n",
      "40103  https://images-na.ssl-images-amazon.com/images...  \n",
      "40104  https://images-na.ssl-images-amazon.com/images...  \n",
      "40105  https://images-na.ssl-images-amazon.com/images...  \n",
      "40106  https://images-na.ssl-images-amazon.com/images...  \n",
      "40107                                                NaN  \n",
      "\n",
      "[40108 rows x 6 columns]\n"
     ]
    }
   ],
   "source": [
    "poster_dest = \"/Users/Adam/Desktop/Project/Movies/posters/\"\n",
    "train = \"/Users/Adam/Desktop/Project/Movies/image-classification/dataset/train/\"\n",
    "test = \"/Users/Adam/Desktop/Project/Movies/image-classification/dataset/test/\"\n",
    "df_movietotal = pd.read_csv(\"MovieGenre.csv\", encoding='latin1')\n",
    "print(df_movietotal)"
   ]
  },
  {
   "cell_type": "code",
   "execution_count": 3,
   "metadata": {},
   "outputs": [],
   "source": [
    "df_movietotal_copy = df_movietotal.copy()\n",
    "df_movietotal_copy = df_movietotal_copy.dropna(axis=0)\n",
    "df_movietotal_copy = df_movietotal_copy.reset_index(drop=True)\n",
    "#for i in range(len(df_movietotal_copy)):\n",
    "    #try:\n",
    "        #if (cv2.imread(train + str(df_movietotal_copy[\"imdbId\"][i]) + '.jpg') == None) and (cv2.imread(test + str(df_movietotal_copy[\"imdbId\"][i]) + '.jpg') == None):\n",
    "            #df_movietotal_copy = df_movietotal_copy[df_movietotal_copy.imdbId != df_movietotal_copy[\"imdbId\"][i]]\n",
    "    #except:\n",
    "        #continue\n",
    "df_movietotal_copy = df_movietotal_copy.reset_index(drop=True)"
   ]
  },
  {
   "cell_type": "code",
   "execution_count": 4,
   "metadata": {},
   "outputs": [
    {
     "name": "stdout",
     "output_type": "stream",
     "text": [
      "112541\n",
      "113044\n",
      "\n"
     ]
    }
   ],
   "source": [
    "j = 999\n",
    "test_none_img = 0\n",
    "train_none_img = 0\n",
    "ids = []\n",
    "for i in range(0, j):\n",
    "    try:\n",
    "        if (i < 750):\n",
    "            img = cv2.imread(poster_dest + str(df_movietotal_copy[\"imdbId\"][i]) + '.jpg')\n",
    "            cv2.imwrite(train + str(df_movietotal_copy[\"imdbId\"][i]) + '.jpg', img)\n",
    "            ids.append(df_movietotal_copy[\"imdbId\"][i])\n",
    "        else:\n",
    "            img = cv2.imread(poster_dest + str(df_movietotal_copy[\"imdbId\"][i]) + '.jpg')\n",
    "            cv2.imwrite(test + str(df_movietotal_copy[\"imdbId\"][i]) + '.jpg', img)\n",
    "            ids.append(df_movietotal_copy[\"imdbId\"][i])\n",
    "    except:\n",
    "        print(df_movietotal_copy[\"imdbId\"][i])\n",
    "        if (i < 750):\n",
    "            train_none_img = train_none_img + 1\n",
    "        else:\n",
    "            test_none_img = test_none_img + 1\n",
    "\n",
    "for i in range(j, j + test_none_img + 1):\n",
    "    img = cv2.imread(poster_dest + str(df_movietotal_copy[\"imdbId\"][i]) + '.jpg')\n",
    "    cv2.imwrite(test + str(df_movietotal_copy[\"imdbId\"][i]) + '.jpg', img)\n",
    "    ids.append(df_movietotal_copy[\"imdbId\"][i])\n",
    "    \n",
    "j = j + test_none_img\n",
    "    \n",
    "for i in range(j, j + train_none_img):\n",
    "    img = cv2.imread(poster_dest + str(df_movietotal_copy[\"imdbId\"][i]) + '.jpg')\n",
    "    cv2.imwrite(train + str(df_movietotal_copy[\"imdbId\"][i]) + '.jpg', img)\n",
    "    ids.append(df_movietotal_copy[\"imdbId\"][i])\n",
    "    \n",
    "np.array(ids)\n",
    "print()"
   ]
  },
  {
   "cell_type": "code",
   "execution_count": 5,
   "metadata": {},
   "outputs": [
    {
     "data": {
      "text/plain": [
       "39246"
      ]
     },
     "execution_count": 5,
     "metadata": {},
     "output_type": "execute_result"
    }
   ],
   "source": [
    "len(df_movietotal_copy)"
   ]
  },
  {
   "cell_type": "code",
   "execution_count": 6,
   "metadata": {},
   "outputs": [],
   "source": [
    "genre_per_movie = []\n",
    "\n",
    "for i in range(len(ids)):\n",
    "    genre_per_movie.append(df_movietotal_copy[ids[i] == df_movietotal_copy[\"imdbId\"]][\"Genre\"].apply(lambda x: str(x).split(\"|\")))   \n",
    "    \n",
    "genre_per_movie2 = np.array(genre_per_movie[0])\n",
    "\n",
    "for i in range(len(ids) - 1):\n",
    "    genre_per_movie2 = np.append(genre_per_movie2, genre_per_movie[i + 1])\n",
    "\n",
    "    \n",
    "single_genre = []\n",
    "for i in range(len(genre_per_movie2)):\n",
    "    single_genre.append(genre_per_movie2[i][0])\n",
    "\n",
    "single_genre = np.array(single_genre)\n",
    "\n",
    "single_genre2 = dict()\n",
    "\n",
    "for i in range(len(single_genre)):\n",
    "    single_genre2[ids[i]] = single_genre[i]"
   ]
  },
  {
   "cell_type": "markdown",
   "metadata": {},
   "source": [
    "Counting how many genres"
   ]
  },
  {
   "cell_type": "code",
   "execution_count": 7,
   "metadata": {},
   "outputs": [
    {
     "name": "stdout",
     "output_type": "stream",
     "text": [
      "Action  =  543\n",
      "Adventure  =  457\n"
     ]
    }
   ],
   "source": [
    "import random\n",
    "\n",
    "flat_list = []\n",
    "\n",
    "def flatten_list(thelist):\n",
    "    for sublist in thelist:\n",
    "        for item in sublist:\n",
    "            flat_list.append(item)\n",
    "    np.array(flat_list)\n",
    "    return flat_list\n",
    "        \n",
    "#flat_list = flatten_list(genre_per_movie)\n",
    "\n",
    "unique, counts = np.unique(single_genre, return_counts=True)\n",
    "class_names = dict(zip(unique, counts))\n",
    "    \n",
    "for i in range(len(single_genre)):\n",
    "    if (single_genre[i] != 'Action' and single_genre[i] != 'Adventure'):\n",
    "        rando = (random.randrange(0, 2, 1))\n",
    "        if (rando < 1):\n",
    "            single_genre[i] = 'Action'\n",
    "        else:\n",
    "            single_genre[i] = 'Adventure'\n",
    "\n",
    "unique, counts = np.unique(single_genre, return_counts=True)\n",
    "class_names = dict(zip(unique, counts))    \n",
    "    \n",
    "#del class_names['Animation']\n",
    "\n",
    "for key, value in class_names.items():\n",
    "    print (key, \" = \", value)"
   ]
  },
  {
   "cell_type": "markdown",
   "metadata": {},
   "source": [
    "Assigning folders"
   ]
  },
  {
   "cell_type": "code",
   "execution_count": 8,
   "metadata": {},
   "outputs": [],
   "source": [
    "train_dir = \"dataset\"\n",
    "\n",
    "for x in class_names:\n",
    "    try:\n",
    "        os.makedirs(train_dir + \"\\\\train\\\\\" + x)\n",
    "        os.makedirs(train_dir + \"\\\\test\\\\\" + x)\n",
    "    except:\n",
    "        continue\n",
    "\n",
    "    cur_path = train_dir + \"\\\\train\\\\\" + x + \"\\\\\"\n",
    "    \n",
    "    cur_path2 = train_dir + \"\\\\test\\\\\" + x + \"\\\\\"\n",
    "    \n",
    "    for i in range(len(single_genre)):\n",
    "        \n",
    "        if (x == single_genre[i]):\n",
    "            original_path   = train + str(ids[i]) + \".jpg\"\n",
    "            image_file_name = str(ids[i]) + \".jpg\"\n",
    "            try:\n",
    "                os.rename(original_path, cur_path + image_file_name)\n",
    "            except:\n",
    "                continue\n",
    "                \n",
    "    for i in range(len(single_genre)):\n",
    "        \n",
    "        if (x == single_genre[i]):\n",
    "            original_path   = test + str(ids[i]) + \".jpg\"\n",
    "            image_file_name = str(ids[i]) + \".jpg\"\n",
    "            try:\n",
    "                os.rename(original_path, cur_path2 + image_file_name)\n",
    "            except:\n",
    "                continue"
   ]
  },
  {
   "cell_type": "code",
   "execution_count": 9,
   "metadata": {},
   "outputs": [],
   "source": [
    "def fd_histogram(image, mask=None):\n",
    "    image = cv2.cvtColor(image, cv2.COLOR_BGR2HSV)\n",
    "    hist  = cv2.calcHist([image], [0, 1, 2], None, [8, 8, 8], [0, 256, 0, 256, 0, 256])\n",
    "    cv2.normalize(hist, hist)\n",
    "    \n",
    "    hist = hist.flatten()\n",
    "    \n",
    "    return hist[0:100]"
   ]
  },
  {
   "cell_type": "markdown",
   "metadata": {},
   "source": [
    "Calculating features for training data"
   ]
  },
  {
   "cell_type": "code",
   "execution_count": 10,
   "metadata": {},
   "outputs": [],
   "source": [
    "features = []\n",
    "\n",
    "labels = []\n",
    "\n",
    "new_ids = []\n",
    "\n",
    "check = 0\n",
    "\n",
    "for key, value in class_names.items():\n",
    "    \n",
    "    current_label = key\n",
    "    \n",
    "    for i in range(len(single_genre)):\n",
    "        \n",
    "        if (single_genre[i] == key):\n",
    "\n",
    "            img = cv2.imread(train + single_genre[i] + \"/\" + str(ids[i]) + '.jpg')\n",
    "            \n",
    "            try:\n",
    "                f = fd_histogram(img)\n",
    "            except:\n",
    "                check = 1\n",
    "            \n",
    "            if (check != 1):\n",
    "                features.append(f)\n",
    "                labels.append(current_label)\n",
    "                new_ids.append(ids[i])\n",
    "            \n",
    "            check = 0\n",
    "\n",
    "features = np.array(features)\n",
    "\n",
    "labels = np.array(labels)\n",
    "\n",
    "new_ids = np.array(new_ids)"
   ]
  },
  {
   "cell_type": "code",
   "execution_count": 11,
   "metadata": {},
   "outputs": [
    {
     "name": "stdout",
     "output_type": "stream",
     "text": [
      "[[9.8184222e-01 7.3309024e-03 3.7901262e-03 ... 5.9844099e-04\n",
      "  1.4961025e-04 1.9948033e-04]\n",
      " [2.0187534e-01 1.1626998e-02 6.3884603e-03 ... 3.8330763e-04\n",
      "  0.0000000e+00 0.0000000e+00]\n",
      " [1.9605488e-02 5.9600682e-03 3.9210976e-03 ... 2.0912520e-04\n",
      "  0.0000000e+00 0.0000000e+00]\n",
      " ...\n",
      " [4.1162144e-02 1.7455580e-02 2.0757986e-02 ... 0.0000000e+00\n",
      "  0.0000000e+00 0.0000000e+00]\n",
      " [5.7279747e-03 3.1530135e-04 1.1561050e-03 ... 5.2550226e-05\n",
      "  0.0000000e+00 0.0000000e+00]\n",
      " [0.0000000e+00 2.5387760e-04 8.4625860e-04 ... 5.9238105e-04\n",
      "  6.7700690e-04 6.7700690e-04]]\n",
      "459\n",
      "(459, 100)\n",
      "\n",
      "\n",
      "['Action' 'Action' 'Action' 'Action' 'Action' 'Action' 'Action' 'Action'\n",
      " 'Action' 'Action' 'Action' 'Action' 'Action' 'Action' 'Action' 'Action'\n",
      " 'Action' 'Action' 'Action' 'Action' 'Action' 'Action' 'Action' 'Action'\n",
      " 'Action' 'Action' 'Action' 'Action' 'Action' 'Action' 'Action' 'Action'\n",
      " 'Action' 'Action' 'Action' 'Action' 'Action' 'Action' 'Action' 'Action'\n",
      " 'Action' 'Action' 'Action' 'Action' 'Action' 'Action' 'Action' 'Action'\n",
      " 'Action' 'Action' 'Action' 'Action' 'Action' 'Action' 'Action' 'Action'\n",
      " 'Action' 'Action' 'Action' 'Action' 'Action' 'Action' 'Action' 'Action'\n",
      " 'Action' 'Action' 'Action' 'Action' 'Action' 'Action' 'Action' 'Action'\n",
      " 'Action' 'Action' 'Action' 'Action' 'Action' 'Action' 'Action' 'Action'\n",
      " 'Action' 'Action' 'Action' 'Action' 'Action' 'Action' 'Action' 'Action'\n",
      " 'Action' 'Action' 'Action' 'Action' 'Action' 'Action' 'Action' 'Action'\n",
      " 'Action' 'Action' 'Action' 'Action' 'Action' 'Action' 'Action' 'Action'\n",
      " 'Action' 'Action' 'Action' 'Action' 'Action' 'Action' 'Action' 'Action'\n",
      " 'Action' 'Action' 'Action' 'Action' 'Action' 'Action' 'Action' 'Action'\n",
      " 'Action' 'Action' 'Action' 'Action' 'Action' 'Action' 'Action' 'Action'\n",
      " 'Action' 'Action' 'Action' 'Action' 'Action' 'Action' 'Action' 'Action'\n",
      " 'Action' 'Action' 'Action' 'Action' 'Action' 'Action' 'Action' 'Action'\n",
      " 'Action' 'Action' 'Action' 'Action' 'Action' 'Action' 'Action' 'Action'\n",
      " 'Action' 'Action' 'Action' 'Action' 'Action' 'Action' 'Action' 'Action'\n",
      " 'Action' 'Action' 'Action' 'Action' 'Action' 'Action' 'Action' 'Action'\n",
      " 'Action' 'Action' 'Action' 'Action' 'Action' 'Action' 'Action' 'Action'\n",
      " 'Action' 'Action' 'Action' 'Action' 'Action' 'Action' 'Action' 'Action'\n",
      " 'Action' 'Action' 'Action' 'Action' 'Action' 'Action' 'Action' 'Action'\n",
      " 'Action' 'Action' 'Action' 'Action' 'Action' 'Action' 'Action' 'Action'\n",
      " 'Action' 'Action' 'Action' 'Action' 'Action' 'Action' 'Action' 'Action'\n",
      " 'Action' 'Action' 'Action' 'Action' 'Action' 'Action' 'Action' 'Action'\n",
      " 'Action' 'Action' 'Action' 'Action' 'Action' 'Action' 'Action' 'Action'\n",
      " 'Action' 'Action' 'Action' 'Action' 'Action' 'Action' 'Action' 'Action'\n",
      " 'Action' 'Action' 'Action' 'Action' 'Action' 'Action' 'Action' 'Action'\n",
      " 'Action' 'Action' 'Action' 'Action' 'Action' 'Action' 'Action' 'Action'\n",
      " 'Action' 'Action' 'Action' 'Action' 'Action' 'Action' 'Action' 'Action'\n",
      " 'Action' 'Action' 'Action' 'Action' 'Action' 'Action' 'Action' 'Action'\n",
      " 'Action' 'Adventure' 'Adventure' 'Adventure' 'Adventure' 'Adventure'\n",
      " 'Adventure' 'Adventure' 'Adventure' 'Adventure' 'Adventure' 'Adventure'\n",
      " 'Adventure' 'Adventure' 'Adventure' 'Adventure' 'Adventure' 'Adventure'\n",
      " 'Adventure' 'Adventure' 'Adventure' 'Adventure' 'Adventure' 'Adventure'\n",
      " 'Adventure' 'Adventure' 'Adventure' 'Adventure' 'Adventure' 'Adventure'\n",
      " 'Adventure' 'Adventure' 'Adventure' 'Adventure' 'Adventure' 'Adventure'\n",
      " 'Adventure' 'Adventure' 'Adventure' 'Adventure' 'Adventure' 'Adventure'\n",
      " 'Adventure' 'Adventure' 'Adventure' 'Adventure' 'Adventure' 'Adventure'\n",
      " 'Adventure' 'Adventure' 'Adventure' 'Adventure' 'Adventure' 'Adventure'\n",
      " 'Adventure' 'Adventure' 'Adventure' 'Adventure' 'Adventure' 'Adventure'\n",
      " 'Adventure' 'Adventure' 'Adventure' 'Adventure' 'Adventure' 'Adventure'\n",
      " 'Adventure' 'Adventure' 'Adventure' 'Adventure' 'Adventure' 'Adventure'\n",
      " 'Adventure' 'Adventure' 'Adventure' 'Adventure' 'Adventure' 'Adventure'\n",
      " 'Adventure' 'Adventure' 'Adventure' 'Adventure' 'Adventure' 'Adventure'\n",
      " 'Adventure' 'Adventure' 'Adventure' 'Adventure' 'Adventure' 'Adventure'\n",
      " 'Adventure' 'Adventure' 'Adventure' 'Adventure' 'Adventure' 'Adventure'\n",
      " 'Adventure' 'Adventure' 'Adventure' 'Adventure' 'Adventure' 'Adventure'\n",
      " 'Adventure' 'Adventure' 'Adventure' 'Adventure' 'Adventure' 'Adventure'\n",
      " 'Adventure' 'Adventure' 'Adventure' 'Adventure' 'Adventure' 'Adventure'\n",
      " 'Adventure' 'Adventure' 'Adventure' 'Adventure' 'Adventure' 'Adventure'\n",
      " 'Adventure' 'Adventure' 'Adventure' 'Adventure' 'Adventure' 'Adventure'\n",
      " 'Adventure' 'Adventure' 'Adventure' 'Adventure' 'Adventure' 'Adventure'\n",
      " 'Adventure' 'Adventure' 'Adventure' 'Adventure' 'Adventure' 'Adventure'\n",
      " 'Adventure' 'Adventure' 'Adventure' 'Adventure' 'Adventure' 'Adventure'\n",
      " 'Adventure' 'Adventure' 'Adventure' 'Adventure' 'Adventure' 'Adventure'\n",
      " 'Adventure' 'Adventure' 'Adventure' 'Adventure' 'Adventure' 'Adventure'\n",
      " 'Adventure' 'Adventure' 'Adventure' 'Adventure' 'Adventure' 'Adventure'\n",
      " 'Adventure' 'Adventure' 'Adventure' 'Adventure' 'Adventure' 'Adventure'\n",
      " 'Adventure' 'Adventure' 'Adventure' 'Adventure' 'Adventure' 'Adventure'\n",
      " 'Adventure' 'Adventure' 'Adventure' 'Adventure' 'Adventure' 'Adventure'\n",
      " 'Adventure' 'Adventure' 'Adventure' 'Adventure' 'Adventure' 'Adventure'\n",
      " 'Adventure' 'Adventure' 'Adventure' 'Adventure' 'Adventure' 'Adventure'\n",
      " 'Adventure' 'Adventure' 'Adventure']\n",
      "459\n",
      "\n",
      "\n",
      "[113497 113277 114319 114576 113189 112896 112453 112760 112641 114388\n",
      " 113101 113845 112401 114057 114117 112792 112697 112819 113855 114916\n",
      " 109950 113321 110877 116126 116839 113118 116367 113010 112744 112365\n",
      " 113972 117002 115759 111173 116483 117110 112646 113276 113326 115645\n",
      " 113774 112373 111055 113451 114500 112442 112462  61395 112495 109370\n",
      " 112715 112740 112851 112864 112887 113071 113243 113481 113492 113500\n",
      " 113677 113729 113749 113820 113957 113986 114095 114194 114345 114508\n",
      " 114534 114558 114781 114805 114898 114938 112643 109676 112854 113117\n",
      " 110057 113360 110189 113501 113552  76759 107566 110391 110538 110527\n",
      " 113870 113967 117169 106402 113948 110671 114069 110912 105652 114214\n",
      " 114296 111495 110769 111255 111282 111161 114614 114608 111280 114888\n",
      " 108550 114857 109444 109484 109506 109450 110093 107472 110475 110478\n",
      " 110950 111054 110997 111257 111438 111503 111742 112443 110455 111048\n",
      " 110399  59170 111301 112702 113319 113827 114047 110027 109785 109035\n",
      " 106226 109068 109067 106292 109254 109303 109305 106471 106582 109456\n",
      " 109493 106677 106697 106881 106880 111732 106977 109890 109920 107076\n",
      " 107096 107144 107151 107206 110197 107286 107362 107413 110353 107554\n",
      " 116253 111689 107653 110657 110678 107756 107808 107889 110939 110955\n",
      " 107969 107978 107983 108052 108065 108071 111143 108149 108174 108238\n",
      " 111323 111400 107688 108333 108358 108515 109226 107002 110363 111252\n",
      " 110366 109382 112572  99653 103064 114706  96895 102926  32910  65214\n",
      " 112606 112625 106537 116165 112712 115509 114671 114658 116275 113122\n",
      " 113947 115956 117060 116136 117117 112509 116683 116768 116269 112536\n",
      " 110061 108181 114307 107727 113443 114048 117688 109751 117774 109593\n",
      " 117420 117107 117979 109374  73778 112546 108500 114103 113270 116448\n",
      " 116827 117260 117500 117998 115624 113568 117723 112586 112691  57012\n",
      " 109688 110480 117331 116669 114494 114709 112302 112346 113987 112281\n",
      " 113627 115012 114746 114952 112637 112286 114279 113347 114148 113819\n",
      " 113541 112714 115683 114753 113537 113973 116731 114039 118158 115697\n",
      " 113490 114825 115639 115734 112579 112556 115033 114536 117427 106473\n",
      " 109424 110647 114015 113125 112585 112461 109093 112384 114287 112857\n",
      " 113114 113540 113690 113851 110620 114323 114435 114436 114478 114496\n",
      "  58450 114663 109340 112602 111579 110882 109579 109759 109758 113028\n",
      " 113089 109771 113199 113234 110066 110116 110006 110099 110216 113538\n",
      " 113670 110296 110443 109836 113808 113896 110729 110413 114084 110889\n",
      " 111112 106966 113936 110081 114694 111667 112435 109040 104779 109446\n",
      " 109504 110167 110213 110588 110622 105226 111256 111756 109454 113014\n",
      " 113104 113173 109339 109219 106379 109279 109361 106505 109480 106834\n",
      " 106965 109842 107004 107057 110123 107207 107290 110265 110305 107478\n",
      " 107614 110687 107943 110971 111001 107977 105275 108002 105032 108122\n",
      " 111194 111201 108160 108162  83658 108186 108255 108328 111418 114906\n",
      " 109403 109828 109120 107642 103639  99348 110719 116282 116552 116514\n",
      " 116684 118001 102855  90665 114305 115837 117608 116414 111543 109028\n",
      " 117788 116168 115591 116287 117128 114616  62711 109491 112604 112368\n",
      " 104046  62952  95776 115851 112817 113362 117108 115963 113429 116508\n",
      "  31612 113849 113188  42644 104606 108211 113280 116594  43274]\n",
      "459\n"
     ]
    }
   ],
   "source": [
    "print(features)\n",
    "print(len(features))\n",
    "print(features.shape)\n",
    "print()\n",
    "print()\n",
    "print(labels)\n",
    "print(len(labels))\n",
    "print()\n",
    "print()\n",
    "print(new_ids)\n",
    "print(len(new_ids))"
   ]
  },
  {
   "cell_type": "code",
   "execution_count": 12,
   "metadata": {},
   "outputs": [
    {
     "name": "stdout",
     "output_type": "stream",
     "text": [
      "w.shape =  (100, 2)\n",
      "w =  [-0.08253191  0.03679093]\n"
     ]
    }
   ],
   "source": [
    "def lda(new_ids, features, labels, class_names):\n",
    "\n",
    "    means = dict()\n",
    "    for c in class_names:\n",
    "        if c != 'Western' and c != 'Film-Noir':\n",
    "            means[c] = features[np.where(labels == c)].mean(axis = 0)\n",
    "           \n",
    "    overall_mean = features.mean(axis = 0)\n",
    "\n",
    "    S_B = np.zeros((features.shape[1], features.shape[1]))\n",
    "    for c in means.keys(): \n",
    "        if c != 'Western' and c != 'Film-Noir':\n",
    "            #print(np.outer((means[c] - overall_mean), (means[c] - overall_mean)))\n",
    "            S_B += np.multiply(np.multiply(features[np.where(labels == c)].shape[0], features[np.where(labels == c)].shape[1]), ((means[c] - overall_mean).dot((means[c] - overall_mean).T)))\n",
    "    \n",
    "    S_W = np.zeros(S_B.shape)\n",
    "    for c in class_names: \n",
    "        if c != 'Western' and c != 'Film-Noir':\n",
    "            for i in range(len(features[np.where(labels == c)])):\n",
    "                S_W += (features[np.where(labels == c)][i] - means[c]).dot((features[np.where(labels == c)][i] - means[c]).T)\n",
    "\n",
    "    \n",
    "    eigvals, eigvecs = np.linalg.eig(np.linalg.pinv(S_W).dot(S_B))\n",
    "    \n",
    "    eiglist = [(eigvals[i], eigvecs[:, i]) for i in range(len(eigvals))] \n",
    "    \n",
    "    \n",
    "    eiglist = sorted(eiglist, reverse = True)\n",
    "    \n",
    "    w = np.hstack((eiglist[0][1].reshape(100,1), eiglist[1][1].reshape(100,1))).real\n",
    "    \n",
    "    return w, means\n",
    "\n",
    "\n",
    "w, mean= lda(new_ids, features, labels, class_names)\n",
    "\n",
    "\n",
    "print(\"w.shape = \", w.shape)\n",
    "print(\"w = \", w[0])"
   ]
  },
  {
   "cell_type": "markdown",
   "metadata": {},
   "source": [
    "Plotting after LDA"
   ]
  },
  {
   "cell_type": "code",
   "execution_count": 13,
   "metadata": {},
   "outputs": [
    {
     "data": {
      "text/plain": [
       "<matplotlib.collections.PathCollection at 0x1f9ba507160>"
      ]
     },
     "execution_count": 13,
     "metadata": {},
     "output_type": "execute_result"
    },
    {
     "data": {
      "image/png": "[encoded data removed]",
      "text/plain": [
       "<Figure size 432x288 with 1 Axes>"
      ]
     },
     "metadata": {
      "needs_background": "light"
     },
     "output_type": "display_data"
    }
   ],
   "source": [
    "features_lda = np.array(features.dot(w))\n",
    "\n",
    "features_p = pd.DataFrame(features_lda)\n",
    "\n",
    "df = features_p.join(pd.Series(labels, name='Genre'))\n",
    "\n",
    "le = LabelEncoder()\n",
    "y = le.fit_transform(df['Genre'])\n",
    "\n",
    "plt.xlabel('LD1')\n",
    "plt.ylabel('LD2')\n",
    "plt.scatter(\n",
    "    features_lda[:, 0],\n",
    "    features_lda[:, 1],\n",
    "    c=y,\n",
    "    cmap='rainbow',\n",
    "    alpha=0.5,\n",
    "    #edgecolors='b'\n",
    ")"
   ]
  },
  {
   "cell_type": "code",
   "execution_count": null,
   "metadata": {},
   "outputs": [],
   "source": []
  }
 ],
 "metadata": {
  "kernelspec": {
   "display_name": "Python [conda env:tensorflow] *",
   "language": "python",
   "name": "conda-env-tensorflow-py"
  },
  "language_info": {
   "codemirror_mode": {
    "name": "ipython",
    "version": 3
   },
   "file_extension": ".py",
   "mimetype": "text/x-python",
   "name": "python",
   "nbconvert_exporter": "python",
   "pygments_lexer": "ipython3",
   "version": "3.6.9"
  }
 },
 "nbformat": 4,
 "nbformat_minor": 2
}
