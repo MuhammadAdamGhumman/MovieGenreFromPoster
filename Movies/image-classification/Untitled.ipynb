{
 "cells": [
  {
   "cell_type": "code",
   "execution_count": 1,
   "metadata": {},
   "outputs": [],
   "source": [
    "import numpy as np\n",
    "import pandas as pd\n",
    "import cv2\n",
    "import scipy.misc\n",
    "import matplotlib.pyplot as plt \n",
    "import glob\n",
    "#import keras\n",
    "#from keras.models import Sequential\n",
    "#from keras.layers import Dense, Dropout, Flatten\n",
    "#from keras.layers import Conv2D, MaxPooling2D, BatchNormalization"
   ]
  },
  {
   "cell_type": "code",
   "execution_count": 2,
   "metadata": {},
   "outputs": [
    {
     "name": "stdout",
     "output_type": "stream",
     "text": [
      "       imdbId                           Imdb Link  \\\n",
      "0      114709  http://www.imdb.com/title/tt114709   \n",
      "1      113497  http://www.imdb.com/title/tt113497   \n",
      "2      113228  http://www.imdb.com/title/tt113228   \n",
      "3      114885  http://www.imdb.com/title/tt114885   \n",
      "4      113041  http://www.imdb.com/title/tt113041   \n",
      "...       ...                                 ...   \n",
      "40103   83168   http://www.imdb.com/title/tt83168   \n",
      "40104   82875   http://www.imdb.com/title/tt82875   \n",
      "40105  815258  http://www.imdb.com/title/tt815258   \n",
      "40106   79142   http://www.imdb.com/title/tt79142   \n",
      "40107   70710   http://www.imdb.com/title/tt70710   \n",
      "\n",
      "                                    Title  IMDB Score  \\\n",
      "0                        Toy Story (1995)         8.3   \n",
      "1                          Jumanji (1995)         6.9   \n",
      "2                 Grumpier Old Men (1995)         6.6   \n",
      "3                Waiting to Exhale (1995)         5.7   \n",
      "4      Father of the Bride Part II (1995)         5.9   \n",
      "...                                   ...         ...   \n",
      "40103               Tanya's Island (1980)         4.3   \n",
      "40104               Pacific Banana (1981)         4.7   \n",
      "40105  Werewolf in a Womens Prison (2006)         4.5   \n",
      "40106              Xiao zi ming da (1979)         6.5   \n",
      "40107                     Snatched (1973)         6.5   \n",
      "\n",
      "                            Genre  \\\n",
      "0      Animation|Adventure|Comedy   \n",
      "1         Action|Adventure|Family   \n",
      "2                  Comedy|Romance   \n",
      "3            Comedy|Drama|Romance   \n",
      "4           Comedy|Family|Romance   \n",
      "...                           ...   \n",
      "40103                       Drama   \n",
      "40104                      Comedy   \n",
      "40105                      Horror   \n",
      "40106               Action|Comedy   \n",
      "40107        Crime|Drama|Thriller   \n",
      "\n",
      "                                                  Poster  \n",
      "0      https://images-na.ssl-images-amazon.com/images...  \n",
      "1      https://images-na.ssl-images-amazon.com/images...  \n",
      "2      https://images-na.ssl-images-amazon.com/images...  \n",
      "3      https://images-na.ssl-images-amazon.com/images...  \n",
      "4      https://images-na.ssl-images-amazon.com/images...  \n",
      "...                                                  ...  \n",
      "40103  https://images-na.ssl-images-amazon.com/images...  \n",
      "40104  https://images-na.ssl-images-amazon.com/images...  \n",
      "40105  https://images-na.ssl-images-amazon.com/images...  \n",
      "40106  https://images-na.ssl-images-amazon.com/images...  \n",
      "40107                                                NaN  \n",
      "\n",
      "[40108 rows x 6 columns]\n"
     ]
    }
   ],
   "source": [
    "df_movietotal = pd.read_csv(\"MovieGenre.csv\", encoding='latin1')\n",
    "print(df_movietotal)"
   ]
  },
  {
   "cell_type": "code",
   "execution_count": 15,
   "metadata": {},
   "outputs": [
    {
     "name": "stdout",
     "output_type": "stream",
     "text": [
      "       imdbId                           Imdb Link  \\\n",
      "0      113497  http://www.imdb.com/title/tt113497   \n",
      "1      113228  http://www.imdb.com/title/tt113228   \n",
      "2      114885  http://www.imdb.com/title/tt114885   \n",
      "3      113041  http://www.imdb.com/title/tt113041   \n",
      "4      113277  http://www.imdb.com/title/tt113277   \n",
      "...       ...                                 ...   \n",
      "40102   83168   http://www.imdb.com/title/tt83168   \n",
      "40103   82875   http://www.imdb.com/title/tt82875   \n",
      "40104  815258  http://www.imdb.com/title/tt815258   \n",
      "40105   79142   http://www.imdb.com/title/tt79142   \n",
      "40106   70710   http://www.imdb.com/title/tt70710   \n",
      "\n",
      "                                    Title  IMDB Score  \\\n",
      "0                          Jumanji (1995)         6.9   \n",
      "1                 Grumpier Old Men (1995)         6.6   \n",
      "2                Waiting to Exhale (1995)         5.7   \n",
      "3      Father of the Bride Part II (1995)         5.9   \n",
      "4                             Heat (1995)         8.2   \n",
      "...                                   ...         ...   \n",
      "40102               Tanya's Island (1980)         4.3   \n",
      "40103               Pacific Banana (1981)         4.7   \n",
      "40104  Werewolf in a Womens Prison (2006)         4.5   \n",
      "40105              Xiao zi ming da (1979)         6.5   \n",
      "40106                     Snatched (1973)         6.5   \n",
      "\n",
      "                         Genre  \\\n",
      "0      Action|Adventure|Family   \n",
      "1               Comedy|Romance   \n",
      "2         Comedy|Drama|Romance   \n",
      "3        Comedy|Family|Romance   \n",
      "4           Action|Crime|Drama   \n",
      "...                        ...   \n",
      "40102                    Drama   \n",
      "40103                   Comedy   \n",
      "40104                   Horror   \n",
      "40105            Action|Comedy   \n",
      "40106     Crime|Drama|Thriller   \n",
      "\n",
      "                                                  Poster  \n",
      "0      https://images-na.ssl-images-amazon.com/images...  \n",
      "1      https://images-na.ssl-images-amazon.com/images...  \n",
      "2      https://images-na.ssl-images-amazon.com/images...  \n",
      "3      https://images-na.ssl-images-amazon.com/images...  \n",
      "4      https://images-na.ssl-images-amazon.com/images...  \n",
      "...                                                  ...  \n",
      "40102  https://images-na.ssl-images-amazon.com/images...  \n",
      "40103  https://images-na.ssl-images-amazon.com/images...  \n",
      "40104  https://images-na.ssl-images-amazon.com/images...  \n",
      "40105  https://images-na.ssl-images-amazon.com/images...  \n",
      "40106                                                NaN  \n",
      "\n",
      "[40107 rows x 6 columns]\n"
     ]
    }
   ],
   "source": [
    "df_movietotal = df_movietotal[df_movietotal.imdbId != 114709]\n",
    "#reindex\n",
    "df_movietotal = df_movietotal.reset_index(drop=True)\n",
    "print(df_movietotal)"
   ]
  },
  {
   "cell_type": "code",
   "execution_count": 24,
   "metadata": {},
   "outputs": [
    {
     "name": "stdout",
     "output_type": "stream",
     "text": [
      "[1, 113497, 113228, 114885, 113041, 113277, 114319, 112302, 114576, 113189, 112346, 112896, 112453, 113987, 112760, 112641, 114388, 113101, 112281, 113845, 113161, 112722, 112401, 114168, 113627, 114057, 114011, 114117, 112682, 115012, 112792, 114746, 114952, 112431, 112637, 112818, 112286, 113442, 112697, 112749, 114279, 112819, 114272, 113855, 114681, 113347, 114369, 114148, 114916, 114814, 109950, 113819, 110299, 112499, 113158, 113541, 113321, 110877, 112714, 113419, 116260, 113862, 116126, 118002, 115683, 116839, 114753, 113149, 113118, 116367, 113010, 113537, 113828, 115644, 115676, 114367, 113973, 112744, 116731, 112445, 114660, 112379, 114039, 113612, 112365, 118158, 116151, 115697, 113972, 113490, 117002, 114825, 115639, 115759, 113403, 113247, 111173, 113283, 115907, 115734, 117102]\n"
     ]
    }
   ],
   "source": [
    "ids = []\n",
    "ids.append(1)\n",
    "for i in range(0, 100):\n",
    "    ids.append(df_movietotal[\"imdbId\"][i])\n",
    "    \n",
    "print(ids)"
   ]
  },
  {
   "cell_type": "code",
   "execution_count": 20,
   "metadata": {},
   "outputs": [
    {
     "name": "stdout",
     "output_type": "stream",
     "text": [
      "[[ 2  3]\n",
      " [ 6  7]\n",
      " [10 11]]\n"
     ]
    }
   ],
   "source": []
  },
  {
   "cell_type": "code",
   "execution_count": null,
   "metadata": {},
   "outputs": [],
   "source": []
  }
 ],
 "metadata": {
  "kernelspec": {
   "display_name": "Python [conda env:tensorflow] *",
   "language": "python",
   "name": "conda-env-tensorflow-py"
  },
  "language_info": {
   "codemirror_mode": {
    "name": "ipython",
    "version": 3
   },
   "file_extension": ".py",
   "mimetype": "text/x-python",
   "name": "python",
   "nbconvert_exporter": "python",
   "pygments_lexer": "ipython3",
   "version": "3.6.9"
  }
 },
 "nbformat": 4,
 "nbformat_minor": 2
}
