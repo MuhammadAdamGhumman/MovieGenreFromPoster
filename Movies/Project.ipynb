{
 "cells": [
  {
   "cell_type": "code",
   "execution_count": 1,
   "metadata": {},
   "outputs": [],
   "source": [
    "import numpy as np\n",
    "import pandas as pd\n",
    "import cv2\n",
    "import scipy.misc\n",
    "import matplotlib.pyplot as plt \n",
    "import glob\n",
    "import imageio\n",
    "import skimage\n",
    "import skimage.transform\n",
    "import itertools\n",
    "#import keras\n",
    "#from keras.models import Sequential\n",
    "#from keras.layers import Dense, Dropout, Flatten\n",
    "#from keras.layers import Conv2D, MaxPooling2D, BatchNormalization"
   ]
  },
  {
   "cell_type": "code",
   "execution_count": 2,
   "metadata": {},
   "outputs": [
    {
     "name": "stdout",
     "output_type": "stream",
     "text": [
      "       imdbId                           Imdb Link  \\\n",
      "0      114709  http://www.imdb.com/title/tt114709   \n",
      "1      113497  http://www.imdb.com/title/tt113497   \n",
      "2      113228  http://www.imdb.com/title/tt113228   \n",
      "3      114885  http://www.imdb.com/title/tt114885   \n",
      "4      113041  http://www.imdb.com/title/tt113041   \n",
      "...       ...                                 ...   \n",
      "40103   83168   http://www.imdb.com/title/tt83168   \n",
      "40104   82875   http://www.imdb.com/title/tt82875   \n",
      "40105  815258  http://www.imdb.com/title/tt815258   \n",
      "40106   79142   http://www.imdb.com/title/tt79142   \n",
      "40107   70710   http://www.imdb.com/title/tt70710   \n",
      "\n",
      "                                    Title  IMDB Score  \\\n",
      "0                        Toy Story (1995)         8.3   \n",
      "1                          Jumanji (1995)         6.9   \n",
      "2                 Grumpier Old Men (1995)         6.6   \n",
      "3                Waiting to Exhale (1995)         5.7   \n",
      "4      Father of the Bride Part II (1995)         5.9   \n",
      "...                                   ...         ...   \n",
      "40103               Tanya's Island (1980)         4.3   \n",
      "40104               Pacific Banana (1981)         4.7   \n",
      "40105  Werewolf in a Womens Prison (2006)         4.5   \n",
      "40106              Xiao zi ming da (1979)         6.5   \n",
      "40107                     Snatched (1973)         6.5   \n",
      "\n",
      "                            Genre  \\\n",
      "0      Animation|Adventure|Comedy   \n",
      "1         Action|Adventure|Family   \n",
      "2                  Comedy|Romance   \n",
      "3            Comedy|Drama|Romance   \n",
      "4           Comedy|Family|Romance   \n",
      "...                           ...   \n",
      "40103                       Drama   \n",
      "40104                      Comedy   \n",
      "40105                      Horror   \n",
      "40106               Action|Comedy   \n",
      "40107        Crime|Drama|Thriller   \n",
      "\n",
      "                                                  Poster  \n",
      "0      https://images-na.ssl-images-amazon.com/images...  \n",
      "1      https://images-na.ssl-images-amazon.com/images...  \n",
      "2      https://images-na.ssl-images-amazon.com/images...  \n",
      "3      https://images-na.ssl-images-amazon.com/images...  \n",
      "4      https://images-na.ssl-images-amazon.com/images...  \n",
      "...                                                  ...  \n",
      "40103  https://images-na.ssl-images-amazon.com/images...  \n",
      "40104  https://images-na.ssl-images-amazon.com/images...  \n",
      "40105  https://images-na.ssl-images-amazon.com/images...  \n",
      "40106  https://images-na.ssl-images-amazon.com/images...  \n",
      "40107                                                NaN  \n",
      "\n",
      "[40108 rows x 6 columns]\n"
     ]
    }
   ],
   "source": [
    "df_movietotal = pd.read_csv(\"MovieGenre.csv\", encoding='latin1')\n",
    "print(df_movietotal)"
   ]
  },
  {
   "cell_type": "code",
   "execution_count": 3,
   "metadata": {},
   "outputs": [],
   "source": [
    "df_movietotal_copy = df_movietotal.copy()\n",
    "df_movietotal_copy = df_movietotal_copy.dropna(axis=0)"
   ]
  },
  {
   "cell_type": "code",
   "execution_count": 4,
   "metadata": {},
   "outputs": [
    {
     "data": {
      "text/plain": [
       "39246"
      ]
     },
     "execution_count": 4,
     "metadata": {},
     "output_type": "execute_result"
    }
   ],
   "source": [
    "len(df_movietotal_copy)"
   ]
  },
  {
   "cell_type": "code",
   "execution_count": 5,
   "metadata": {},
   "outputs": [
    {
     "name": "stdout",
     "output_type": "stream",
     "text": [
      "0        [Animation, Adventure, Comedy]\n",
      "1           [Action, Adventure, Family]\n",
      "2                     [Comedy, Romance]\n",
      "3              [Comedy, Drama, Romance]\n",
      "4             [Comedy, Family, Romance]\n",
      "                      ...              \n",
      "40102                [Action, Thriller]\n",
      "40103                           [Drama]\n",
      "40104                          [Comedy]\n",
      "40105                          [Horror]\n",
      "40106                  [Action, Comedy]\n",
      "Name: Genre, Length: 39246, dtype: object\n"
     ]
    }
   ],
   "source": [
    "label_dict = {\"word2idx\": {}, \"idx2word\": []}\n",
    "idx = 0\n",
    "genre_pm = df_movietotal_copy[\"Genre\"].apply(lambda x: str(x).split(\"|\"))\n",
    "for l in [g for d in genre_pm for g in d]:\n",
    "    if l in label_dict[\"idx2word\"]:\n",
    "        pass\n",
    "    else:\n",
    "        label_dict[\"idx2word\"].append(l)\n",
    "        label_dict[\"word2idx\"][l] = idx\n",
    "        idx += 1\n",
    "\n",
    "genre_per_movie = df_movietotal_copy[\"Genre\"].apply(lambda x: str(x).split(\"|\"))\n",
    "\n",
    "print(genre_per_movie)"
   ]
  },
  {
   "cell_type": "code",
   "execution_count": 6,
   "metadata": {},
   "outputs": [
    {
     "name": "stdout",
     "output_type": "stream",
     "text": [
      "Animation 1704\n",
      "Adventure 3806\n",
      "Comedy 12562\n",
      "Action 5307\n",
      "Family 2084\n",
      "Romance 6188\n",
      "Drama 19850\n",
      "Crime 5249\n",
      "Thriller 4797\n",
      "Fantasy 2004\n",
      "Horror 3981\n",
      "Biography 1971\n",
      "History 1403\n",
      "Mystery 2387\n",
      "Sci-Fi 2002\n",
      "War 1162\n",
      "Sport 698\n",
      "Music 2075\n",
      "Documentary 3556\n",
      "Musical 837\n",
      "Western 846\n",
      "Short 918\n",
      "Film-Noir 403\n",
      "Talk-Show 6\n",
      "News 79\n",
      "Adult 9\n",
      "Reality-TV 2\n",
      "Game-Show 1\n"
     ]
    }
   ],
   "source": [
    "def genre_count(df, label_dict):\n",
    "    max_genre = 0\n",
    "    for label in label_dict[\"idx2word\"]:\n",
    "        occurrences = len((df[df['Genre'].str.contains(label)]))\n",
    "        print(label, occurrences)\n",
    "        if occurrences > max_genre:\n",
    "            max_genre = occurrences\n",
    "    return max_genre\n",
    "\n",
    "max_genre = genre_count(df_movietotal_copy, label_dict)"
   ]
  },
  {
   "cell_type": "code",
   "execution_count": 7,
   "metadata": {},
   "outputs": [
    {
     "data": {
      "text/plain": [
       "39246"
      ]
     },
     "execution_count": 7,
     "metadata": {},
     "output_type": "execute_result"
    }
   ],
   "source": [
    "len(df_movietotal_copy)"
   ]
  },
  {
   "cell_type": "code",
   "execution_count": 8,
   "metadata": {},
   "outputs": [],
   "source": [
    "savelocation = \"/Users/Adam/Desktop/Project/Movies/posters/\"\n",
    "\n",
    "image_glob = glob.glob(savelocation + \"*.jpg\")\n",
    "img_dict = {}"
   ]
  },
  {
   "cell_type": "code",
   "execution_count": 9,
   "metadata": {},
   "outputs": [],
   "source": [
    "def get_id(filename):\n",
    "    index_s = filename.rfind(\"/\") + 1\n",
    "    index_f = filename.rfind(\".jpg\")\n",
    "    return filename[index_s:index_f]"
   ]
  },
  {
   "cell_type": "code",
   "execution_count": 10,
   "metadata": {},
   "outputs": [],
   "source": [
    "for fn in image_glob:\n",
    "    try:\n",
    "        img_dict[get_id(fn)] = imageio.imread(fn)\n",
    "    except:\n",
    "        pass"
   ]
  },
  {
   "cell_type": "code",
   "execution_count": 11,
   "metadata": {},
   "outputs": [],
   "source": [
    "def show_img(idx):\n",
    "    savelocation = \"/Users/Adam/Desktop/Project/Movies/posters/\"\n",
    "    title = np.array(df_movietotal_copy[df_movietotal_copy[\"imdbId\"] == int(idx[8:])][\"Title\"])[0]\n",
    "    genre = np.array(df_movietotal_copy[df_movietotal_copy[\"imdbId\"] == int(idx[8:])][\"Genre\"])[0]\n",
    "    \n",
    "    g = genre.split(\"|\")\n",
    "    \n",
    "    plt.imshow(img_dict[idx])\n",
    "    plt.title(\"{} \\n {}\".format(title, genre))\n",
    "    \n",
    "    return imageio.imread(savelocation + idx[8:] +\".jpg\"), g"
   ]
  },
  {
   "cell_type": "code",
   "execution_count": 12,
   "metadata": {},
   "outputs": [],
   "source": [
    "def preprocess(img, size=(150, 101, 3)):\n",
    "    img = skimage.transform.resize(img, size)\n",
    "    img = img.astype(np.float32)\n",
    "    img = (img / 127.5) - 1.\n",
    "    return img"
   ]
  },
  {
   "cell_type": "code",
   "execution_count": 13,
   "metadata": {},
   "outputs": [],
   "source": [
    "def prepare_data(data, img_dict, label_dict, size=(150, 101, 3)):\n",
    "    print(\"Generation dataset...\")\n",
    "    \n",
    "    dataset = []\n",
    "    y = []\n",
    "    ids = []\n",
    "    \n",
    "    n_samples = len(img_dict)\n",
    "    print(\"got {} posters\".format(n_samples))\n",
    "    \n",
    "    count = 0\n",
    "    \n",
    "    for key, value in img_dict.items():\n",
    "        \n",
    "        if int(key[8:]) in data[\"imdbId\"].values:\n",
    "            G = data[data[\"imdbId\"] == int(key[8:])][\"Genre\"].values\n",
    "            for g in G: \n",
    "                g = g.split(\"|\")\n",
    "                \n",
    "                img = preprocess(img_dict[key], size)\n",
    "                \n",
    "                if img.shape != (150, 101, 3):\n",
    "                    continue\n",
    "                l = np.sum([np.eye( len(label_dict[\"idx2word\"]) , dtype=\"uint8\")[label_dict[\"word2idx\"][s]] for s in g], axis=0)\n",
    "\n",
    "                y.append(l)\n",
    "                dataset.append(img)\n",
    "                ids.append(int(key[8:]))\n",
    "                            \n",
    "    print(\"DONE\")\n",
    "    print(len(dataset))\n",
    "    return dataset, y, ids"
   ]
  },
  {
   "cell_type": "code",
   "execution_count": 14,
   "metadata": {},
   "outputs": [
    {
     "name": "stdout",
     "output_type": "stream",
     "text": [
      "Generation dataset...\n",
      "got 38667 posters\n",
      "DONE\n",
      "39123\n"
     ]
    }
   ],
   "source": [
    "SIZE = (150, 101, 3)\n",
    "dataset, y, ids =  prepare_data(df_movietotal_copy, img_dict, label_dict, size=SIZE)"
   ]
  },
  {
   "cell_type": "code",
   "execution_count": 15,
   "metadata": {},
   "outputs": [
    {
     "name": "stderr",
     "output_type": "stream",
     "text": [
      "Using TensorFlow backend.\n"
     ]
    }
   ],
   "source": [
    "import keras\n",
    "from keras.models import Sequential\n",
    "from keras.layers import Dense, Dropout, Flatten\n",
    "from keras.layers import Conv2D, MaxPooling2D, BatchNormalization"
   ]
  },
  {
   "cell_type": "code",
   "execution_count": 16,
   "metadata": {},
   "outputs": [
    {
     "name": "stdout",
     "output_type": "stream",
     "text": [
      "WARNING:tensorflow:From C:\\Users\\Adam\\Anaconda3\\envs\\tensorflow\\lib\\site-packages\\tensorflow\\python\\ops\\resource_variable_ops.py:435: colocate_with (from tensorflow.python.framework.ops) is deprecated and will be removed in a future version.\n",
      "Instructions for updating:\n",
      "Colocations handled automatically by placer.\n"
     ]
    }
   ],
   "source": [
    "model = Sequential()\n",
    "model.add(Conv2D(32, kernel_size=(3, 3), activation='relu', input_shape=(SIZE[0], SIZE[1], 3)))\n",
    "model.add(Conv2D(64, (3, 3), activation='relu'))\n",
    "model.add(MaxPooling2D(pool_size=(2, 2)))\n",
    "model.add(Dropout(0.25))\n",
    "\n",
    "model.add(Conv2D(128, kernel_size=(3, 3), activation='relu'))\n",
    "model.add(Conv2D(64, (3, 3), activation='relu'))\n",
    "model.add(MaxPooling2D(pool_size=(2, 2)))\n",
    "model.add(Dropout(0.25))\n",
    "\n",
    "model.add(Flatten())\n",
    "model.add(Dense(128, activation='relu'))\n",
    "model.add(Dropout(0.5))\n",
    "model.add(Dense(28, activation='sigmoid'))"
   ]
  },
  {
   "cell_type": "code",
   "execution_count": 17,
   "metadata": {},
   "outputs": [],
   "source": [
    "model.compile(loss='binary_crossentropy', optimizer=keras.optimizers.Adagrad(), metrics=['accuracy'])"
   ]
  },
  {
   "cell_type": "code",
   "execution_count": 18,
   "metadata": {},
   "outputs": [
    {
     "name": "stdout",
     "output_type": "stream",
     "text": [
      "WARNING:tensorflow:From C:\\Users\\Adam\\Anaconda3\\envs\\tensorflow\\lib\\site-packages\\tensorflow\\python\\ops\\math_ops.py:3066: to_int32 (from tensorflow.python.ops.math_ops) is deprecated and will be removed in a future version.\n",
      "Instructions for updating:\n",
      "Use tf.cast instead.\n",
      "Train on 3600 samples, validate on 400 samples\n",
      "Epoch 1/5\n",
      "3600/3600 [==============================] - 297s 83ms/step - loss: 0.2933 - accuracy: 0.9126 - val_loss: 0.2146 - val_accuracy: 0.9225\n",
      "Epoch 2/5\n",
      "3600/3600 [==============================] - 292s 81ms/step - loss: 0.2275 - accuracy: 0.9198 - val_loss: 0.2138 - val_accuracy: 0.9225\n",
      "Epoch 3/5\n",
      "3600/3600 [==============================] - 287s 80ms/step - loss: 0.2247 - accuracy: 0.9200 - val_loss: 0.2128 - val_accuracy: 0.9191\n",
      "Epoch 4/5\n",
      "3600/3600 [==============================] - 286s 79ms/step - loss: 0.2234 - accuracy: 0.9196 - val_loss: 0.2129 - val_accuracy: 0.9225\n",
      "Epoch 5/5\n",
      "3600/3600 [==============================] - 291s 81ms/step - loss: 0.2218 - accuracy: 0.9200 - val_loss: 0.2121 - val_accuracy: 0.9225\n"
     ]
    },
    {
     "data": {
      "text/plain": [
       "<keras.callbacks.callbacks.History at 0x25dc36c7128>"
      ]
     },
     "execution_count": 18,
     "metadata": {},
     "output_type": "execute_result"
    }
   ],
   "source": [
    "n = 4000\n",
    "model.fit(np.array(dataset[: n]), np.array(y[: n]), batch_size=16, epochs=5, verbose=1, validation_split=0.1)"
   ]
  },
  {
   "cell_type": "code",
   "execution_count": 19,
   "metadata": {},
   "outputs": [],
   "source": [
    "n_test = 100\n",
    "X_test = dataset[n:n + n_test]\n",
    "y_test = np.array(y[n:n + n_test])"
   ]
  },
  {
   "cell_type": "code",
   "execution_count": 20,
   "metadata": {},
   "outputs": [],
   "source": [
    "pred = model.predict(np.array(X_test))"
   ]
  },
  {
   "cell_type": "code",
   "execution_count": 21,
   "metadata": {},
   "outputs": [],
   "source": [
    "def largest_ele(l, n):\n",
    "    l = l.copy()\n",
    "    s = []\n",
    "    \n",
    "    for i in range(n):\n",
    "        num = np.argmax(l)\n",
    "        s.append(num)\n",
    "        l[num] = 0\n",
    "\n",
    "    return np.array(s)"
   ]
  },
  {
   "cell_type": "code",
   "execution_count": 22,
   "metadata": {},
   "outputs": [],
   "source": [
    "def accuracy_score(y_test, pred):\n",
    "    value = 0\n",
    "    num_of_gen = 0\n",
    "    for i in range(len(pred)):\n",
    "        correct = np.array(np.where(y_test[i] == 1))\n",
    "        correct = correct[0]\n",
    "        perdicted = np.sort(largest_ele(pred[i], len(correct)))\n",
    "        \n",
    "        num_of_gen = 0\n",
    "        \n",
    "        for j in range(len(correct)):\n",
    "            for k in range(len(perdicted)):\n",
    "                if(perdicted[k] == correct[j]):\n",
    "                    num_of_gen = num_of_gen + 1\n",
    "\n",
    "        num_of_gen = num_of_gen / len(correct)\n",
    "        \n",
    "        value = value + num_of_gen\n",
    "            \n",
    "    print(value/len(pred))"
   ]
  },
  {
   "cell_type": "code",
   "execution_count": 23,
   "metadata": {},
   "outputs": [
    {
     "name": "stdout",
     "output_type": "stream",
     "text": [
      "0.44166666666666676\n"
     ]
    }
   ],
   "source": [
    "accuracy_score(y_test, pred)"
   ]
  },
  {
   "cell_type": "code",
   "execution_count": 32,
   "metadata": {},
   "outputs": [
    {
     "name": "stdout",
     "output_type": "stream",
     "text": [
      "Original genres: \n",
      "Documentary\n",
      "Biography\n",
      "Music\n",
      "\n",
      "Predicted genres: \n",
      "Comedy\n",
      "Action\n",
      "Drama\n"
     ]
    },
    {
     "data": {
      "image/png": "[encoded data removed]",
      "text/plain": [
       "<Figure size 432x288 with 1 Axes>"
      ]
     },
     "metadata": {
      "needs_background": "light"
     },
     "output_type": "display_data"
    }
   ],
   "source": [
    "from IPython.display import clear_output\n",
    "\n",
    "def GenrePerdictor(img):\n",
    "    print(\"Original genres: \")\n",
    "    img, genre = show_img(\"posters\" + \"\\\\\" + img)\n",
    "    for i in genre:\n",
    "        print(i)\n",
    "    \n",
    "    dataset = []\n",
    "    img = preprocess(img)\n",
    "    dataset.append(img)\n",
    "    \n",
    "    pred = model.predict(np.array(dataset))\n",
    "\n",
    "    perdicted = np.sort(largest_ele(pred[0], len(genre)))\n",
    "    \n",
    "    print(\"\")\n",
    "    print(\"Predicted genres: \")\n",
    "    for i in perdicted:\n",
    "        print(label_dict[\"idx2word\"][i])\n",
    "\n",
    "img = input(\"Enter image name: \")\n",
    "clear_output(wait=True)\n",
    "\n",
    "GenrePerdictor(img)"
   ]
  },
  {
   "cell_type": "code",
   "execution_count": null,
   "metadata": {},
   "outputs": [],
   "source": []
  }
 ],
 "metadata": {
  "kernelspec": {
   "display_name": "Python [conda env:tensorflow] *",
   "language": "python",
   "name": "conda-env-tensorflow-py"
  },
  "language_info": {
   "codemirror_mode": {
    "name": "ipython",
    "version": 3
   },
   "file_extension": ".py",
   "mimetype": "text/x-python",
   "name": "python",
   "nbconvert_exporter": "python",
   "pygments_lexer": "ipython3",
   "version": "3.6.9"
  }
 },
 "nbformat": 4,
 "nbformat_minor": 2
}
